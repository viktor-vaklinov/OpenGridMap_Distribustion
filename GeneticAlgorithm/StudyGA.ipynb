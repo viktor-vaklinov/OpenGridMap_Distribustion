{
 "cells": [
  {
   "cell_type": "markdown",
   "metadata": {},
   "source": [
    "# Genetic Algorithm Study with a tutorial"
   ]
  },
  {
   "cell_type": "raw",
   "metadata": {},
   "source": [
    "Objective Function:  \n",
    "      max f(x,y) \n",
    "      s.t. x,y within [-10,10]\n",
    "      f(x,y) = 0.5 - (sin(sqrt(x^2 + y^2))^2) - 0.5) / (1 + 0.001 * (x^2 + y^2))^2\n",
    "      \n",
    "      \n",
    "**Comment**: \n",
    "The following codes are written in a functional-oriented way, for better understanding step by step. However, it's much better to encapsulate these methods into one class where variables are better to maintain.\n"
   ]
  },
  {
   "cell_type": "markdown",
   "metadata": {},
   "source": [
    "## Initial population set"
   ]
  },
  {
   "cell_type": "code",
   "execution_count": 54,
   "metadata": {
    "collapsed": true
   },
   "outputs": [],
   "source": [
    "import math\n",
    "import random\n",
    "\n",
    "def init_generation(chromo_len, pop_size, generation,\n",
    "                    next_generation, fitness, selector_prob):\n",
    "    '''Initial first generation by random'''\n",
    "    n = 2 ** chromo_len -1  # max value of chromosome\n",
    "    for i in range(pop_size):\n",
    "        generation.append((random.randint(0, n), random.randint(0, n)))\n",
    "        next_generation.append((0, 0))\n",
    "        fitness.append(0)\n",
    "        selector_prob.append(0)   "
   ]
  },
  {
   "cell_type": "markdown",
   "metadata": {},
   "source": [
    "## Population definition"
   ]
  },
  {
   "cell_type": "code",
   "execution_count": 55,
   "metadata": {
    "collapsed": false
   },
   "outputs": [],
   "source": [
    "age = 0                 # the count of generation\n",
    "pop_size = 30           # totoal population of a generation\n",
    "gen_max = 50            # max amount of generation\n",
    "chromo_len = 25        # length of chromosome\n",
    "cross_prob = 0.8        # probability of crossover\n",
    "mutat_prob = 0.1        # probability of mutation\n",
    "\n",
    "generation = []         # current generation of individuals\n",
    "next_generation = []    # next generation of individuals\n",
    "fitness = []            # fitness value of each individual in current generation\n",
    "selector_prob = []      # probability of each individual to be selected\n",
    "\n",
    "# the best individual of that generation\n",
    "elitist = {'chromosome':(0, 0), 'fitness':0, 'age':0}\n",
    "\n",
    "# Initial generation params\n",
    "init_generation(chromo_len, pop_size, generation,\n",
    "                next_generation, fitness, selector_prob)"
   ]
  },
  {
   "cell_type": "markdown",
   "metadata": {},
   "source": [
    "## Define encoding and decoding function"
   ]
  },
  {
   "cell_type": "raw",
   "metadata": {},
   "source": [
    "Devide feasible set [-10, 10] into 20*1e6 sub-intervals:\n",
    "    2^24 < 20 * 10^6 + 1 < 2^25\n",
    "so use binary sequence of 25 bits to represent the input c: \n",
    "    f(c) = -10.0 + c * 20.0 / (2^25 - 1) "
   ]
  },
  {
   "cell_type": "code",
   "execution_count": 56,
   "metadata": {
    "collapsed": false
   },
   "outputs": [],
   "source": [
    "def decode(interval, chromosome, chromo_len):\n",
    "    '''Project chromosome to feasible interval'''\n",
    "    delta = interval[1] - interval[0]\n",
    "    ratio = float(2 ** chromo_len -1)\n",
    "    return (interval[0] + chromosome * delta / ratio)    "
   ]
  },
  {
   "cell_type": "markdown",
   "metadata": {},
   "source": [
    "## Define fitness function"
   ]
  },
  {
   "cell_type": "code",
   "execution_count": 62,
   "metadata": {
    "collapsed": true
   },
   "outputs": [],
   "source": [
    "def fitness_func(chromo_x, chromo_y):\n",
    "    '''Calculate the fitness value of a chromosome pair'''\n",
    "    interval = [-10.0, 10.0]\n",
    "    x = decode(interval, chromo_x, chromo_len)\n",
    "    y = decode(interval, chromo_y, chromo_len)\n",
    "    nom = lambda x,y: math.sin(math.sqrt(x*x + y*y)) ** 2 - 0.5\n",
    "    denom = lambda x,y: (1 + 0.001 * (x*x + y*y)) ** 2\n",
    "    f = lambda x,y: 0.5 - nom(x,y) / denom(x,y)\n",
    "    return f(x,y)\n",
    "\n",
    "def evaluate(pop_size, fitness, generation, selector_prob):\n",
    "    '''Evalutate the selection probability of each individual'''\n",
    "    for i in range(pop_size):\n",
    "        fitness[i] = fitness_func(generation[i][0], generation[i][1])\n",
    "    \n",
    "    total = sum(fitness)\n",
    "    for i in range(pop_size):\n",
    "        selector_prob[i] = fitness[i] / total\n",
    "    \n",
    "    # For Roulette Selection\n",
    "    for i in range(1, pop_size):\n",
    "        selector_prob[i] += selector_prob[i-1] \n",
    "        "
   ]
  },
  {
   "cell_type": "markdown",
   "metadata": {},
   "source": [
    "## Define genetic operation"
   ]
  },
  {
   "cell_type": "code",
   "execution_count": 66,
   "metadata": {
    "collapsed": true
   },
   "outputs": [],
   "source": [
    "def select(selector_prob):\n",
    "    t = random.random()\n",
    "    i = 0 \n",
    "    for p in selector_prob:\n",
    "        if p > t:\n",
    "            break\n",
    "        i += 1\n",
    "    return i\n",
    "\n",
    "def cross (chromo_len, cross_prob, chrom1, chrom2):\n",
    "    p = random.random ()\n",
    "    n = 2 ** chromo_len -1\n",
    "    if chrom1 != chrom2 and p < cross_prob:\n",
    "        t = random.randint (1, chromo_len - 1)\n",
    "        #print bin(chrom1),bin(chrom2)\n",
    "        mask = n << t\n",
    "        (r1, r2) = (chrom1 & mask, chrom2 & mask)\n",
    "        #print mask,bin(mask)\n",
    "        #print bin(r1),bin(r2)\n",
    "        mask = n >> (chromo_len - t)\n",
    "        (l1, l2) = (chrom1 & mask, chrom2 & mask)\n",
    "        #print mask,bin(mask)\n",
    "        #print bin(l1), bin(l2)\n",
    "        \n",
    "        (chrom1, chrom2) = (r1 + l2, r2 + l1)\n",
    "    return (chrom1, chrom2)\n",
    "\n",
    "    \n",
    "def mutate(chromo, chromo_len):\n",
    "    p = random.random()\n",
    "    mutat_prob = 1\n",
    "    if p < mutat_prob:\n",
    "        t = random.randint(1, chromo_len)\n",
    "        mask1 = 1 << (t - 1)\n",
    "        mask2 = chromo & mask1\n",
    "        if mask2 > 0:\n",
    "            chromo = chromo & (~mask2)\n",
    "        else:\n",
    "            chromo = chromo ^ mask1\n",
    "    return chromo"
   ]
  },
  {
   "cell_type": "markdown",
   "metadata": {},
   "source": [
    "## Evolution process"
   ]
  },
  {
   "cell_type": "code",
   "execution_count": 67,
   "metadata": {
    "collapsed": false
   },
   "outputs": [
    {
     "name": "stdout",
     "output_type": "stream",
     "text": [
      "(0, 0.9884934500378899, 0.685662185422906, 0.02562632508772189)\n",
      "(1, 0.9899524298802628, 0.6995285129249985, 0.028803147788303618)\n",
      "(2, 0.9807479136717451, 0.7365419908077772, 0.041823916962629715)\n",
      "(3, 0.9872525641322631, 0.7050299794666909, 0.025546239622170674)\n",
      "(4, 0.9892576851034987, 0.7284594167161312, 0.05773912221943289)\n",
      "(5, 0.9819217372129203, 0.7500094859179209, 0.0679961263958469)\n",
      "(6, 0.9870928794355894, 0.7376802563226986, 0.07702596541426276)\n",
      "(7, 0.9872015160786689, 0.7048947302408148, 0.022706615078970593)\n",
      "(8, 0.9870569342811868, 0.723771955450505, 0.07491531424408088)\n",
      "(9, 0.9902775341583623, 0.7645175871424303, 0.07588826792484882)\n",
      "(10, 0.9900542424474348, 0.7340151283545605, 0.06333896784226495)\n",
      "(11, 0.9902818598567149, 0.8079302642713077, 0.05594272788596272)\n",
      "(12, 0.9901560203268471, 0.7042881895866462, 0.039176466159353995)\n",
      "(13, 0.9901585659030369, 0.7038763720079709, 0.030077303211614004)\n",
      "(14, 0.9901279617125118, 0.665073049817197, 0.03720001713242532)\n",
      "(15, 0.9902133530102752, 0.6085316429111102, 0.003206441282886663)\n",
      "(16, 0.9902207517296135, 0.622314171365242, 0.11106490670166785)\n",
      "(17, 0.9894084105107924, 0.6113870790445408, 0.031676666550982224)\n",
      "(18, 0.9770954086191685, 0.5835587962075256, 0.06168856350178192)\n",
      "(19, 0.9876277778605245, 0.6558983846390603, 0.10958465813712348)\n",
      "(20, 0.9773737365412325, 0.6556359465841249, 0.029877038107663678)\n",
      "(21, 0.9623919581937486, 0.6112520377442484, 0.023275475379473498)\n",
      "(22, 0.9217870987664951, 0.598941799392487, 0.02678729665488916)\n",
      "(23, 0.9216885195309295, 0.6475753527929862, 0.05636580915227196)\n",
      "(24, 0.9207796186147155, 0.7739655329794325, 0.11534227353997911)\n",
      "(25, 0.9900704495219144, 0.6670896812921032, 0.10229352459615781)\n",
      "(26, 0.9343650450751653, 0.6531612079427096, 0.02378038329972515)\n",
      "(27, 0.9390218470520739, 0.6960658476209015, 0.03838105968231881)\n",
      "(28, 0.92109475962512, 0.6549289742828636, 0.00894945852911544)\n",
      "(29, 0.9205332725544693, 0.7282588032792375, 0.07316235176544655)\n",
      "(30, 0.9564244701030264, 0.7243900859535984, 0.056533311047968604)\n",
      "(31, 0.920503385790945, 0.6908345024671595, 0.13090745282612043)\n",
      "(32, 0.9202298771871099, 0.6249248035581905, 0.10414767640970618)\n",
      "(33, 0.9215320589535777, 0.6178877342652014, 0.07811246105419228)\n",
      "(34, 0.9362729990882545, 0.7145874904495859, 0.015508325585449567)\n",
      "(35, 0.9609162784559938, 0.6986671936898515, 0.06933804974985724)\n",
      "(36, 0.9218016427783342, 0.7167209939047304, 0.0761251900634281)\n",
      "(37, 0.9608428468151173, 0.7357006374105193, 0.08407340313457401)\n",
      "(38, 0.9607217958691436, 0.7694428610504501, 0.11175194429276347)\n",
      "(39, 0.967719710826455, 0.6628488945353749, 0.0025261776251094825)\n",
      "(40, 0.9643213282884711, 0.7367766460656814, 0.05923321294597339)\n",
      "(41, 0.9851789159590965, 0.6847240894636867, 0.02969201531882537)\n",
      "(42, 0.9851702884568907, 0.733837450706644, 0.09591985181943208)\n",
      "(43, 0.9855741968290104, 0.7067978319454117, 0.058009116908281144)\n",
      "(44, 0.9858891288725872, 0.7303410636307369, 0.12321621700581448)\n",
      "(45, 0.9877836089012976, 0.6134560969143911, 0.05647553850121573)\n",
      "(46, 0.9876461940679722, 0.5948951541772731, 0.0769002216261126)\n",
      "(47, 0.9736988630005192, 0.6240062759926298, 0.021780557296101233)\n",
      "(48, 0.9872618617547523, 0.707625578449823, 0.0032323313439581725)\n",
      "(49, 0.9373622758202369, 0.6297530686699404, 0.03119624935200438)\n"
     ]
    }
   ],
   "source": [
    "for k in range(gen_max):\n",
    "    # Evaluate selection prob of current generation\n",
    "    evaluate(pop_size, fitness, generation, selector_prob)\n",
    "    \n",
    "    # Evolve with genetic operations\n",
    "    i = 0\n",
    "    while True:\n",
    "        # Select individual\n",
    "        id1 = select(selector_prob)\n",
    "        id2 = select(selector_prob)\n",
    "        (id1_x, id1_y) = (generation[id1][0], generation[id1][1])\n",
    "        (id2_x, id2_y) = (generation[id2][0], generation[id2][1])\n",
    "        \n",
    "        # Perform cross\n",
    "        (id1_x, id2_x) = cross(chromo_len, cross_prob, id1_x, id2_x)\n",
    "        (id1_y, id2_y) = cross(chromo_len, cross_prob, id1_y, id2_y)\n",
    "        \n",
    "        # Perform mutate\n",
    "        id1_val = (mutate(id1_x, chromo_len), mutate(id1_y, chromo_len))\n",
    "        id2_val = (mutate(id2_x, chromo_len), mutate(id2_y, chromo_len))\n",
    "         \n",
    "        # Generate next generation    \n",
    "        next_generation[i] = id1_val\n",
    "        next_generation[i + 1] = id2_val\n",
    "        i += 2\n",
    "        \n",
    "        # Check termination condition\n",
    "        if i >= pop_size:\n",
    "            break\n",
    "    \n",
    "    # Replace the current generation with next one\n",
    "    generation = list(next_generation)\n",
    "    print (k, max(fitness), sum(fitness)/pop_size, min(fitness)) "
   ]
  },
  {
   "cell_type": "code",
   "execution_count": null,
   "metadata": {
    "collapsed": true
   },
   "outputs": [],
   "source": []
  }
 ],
 "metadata": {
  "anaconda-cloud": {},
  "kernelspec": {
   "display_name": "Python [Root]",
   "language": "python",
   "name": "Python [Root]"
  },
  "language_info": {
   "codemirror_mode": {
    "name": "ipython",
    "version": 2
   },
   "file_extension": ".py",
   "mimetype": "text/x-python",
   "name": "python",
   "nbconvert_exporter": "python",
   "pygments_lexer": "ipython2",
   "version": "2.7.12"
  }
 },
 "nbformat": 4,
 "nbformat_minor": 0
}
