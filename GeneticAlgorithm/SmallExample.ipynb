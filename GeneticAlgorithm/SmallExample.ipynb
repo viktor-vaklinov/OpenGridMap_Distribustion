{
 "cells": [
  {
   "cell_type": "code",
   "execution_count": 5,
   "metadata": {
    "collapsed": true
   },
   "outputs": [],
   "source": [
    "from random import randint, random\n",
    "from operator import add\n",
    "\n",
    "def individual(length, min, max):\n",
    "    'Create a member of the population.'\n",
    "    return [ randint(min,max) for x in xrange(length) ]\n",
    "\n",
    "def population(count, length, min, max):\n",
    "    \"\"\"\n",
    "    Create a number of individuals (i.e. a population).\n",
    "\n",
    "    count: the number of individuals in the population\n",
    "    length: the number of values per individual\n",
    "    min: the minimum possible value in an individual's list of values\n",
    "    max: the maximum possible value in an individual's list of values\n",
    "\n",
    "    \"\"\"\n",
    "    return [ individual(length, min, max) for x in xrange(count) ]\n",
    "\n",
    "def fitness(individual, target):\n",
    "    \"\"\"\n",
    "    Determine the fitness of an individual. Higher is better.\n",
    "\n",
    "    individual: the individual to evaluate\n",
    "    target: the target number individuals are aiming for\n",
    "    \"\"\"\n",
    "    sum = reduce(add, individual, 0)\n",
    "    return abs(target-sum)\n",
    "\n",
    "def grade(pop, target):\n",
    "    'Find average fitness for a population.'\n",
    "    summed = reduce(add, (fitness(x, target) for x in pop))\n",
    "    return summed / (len(pop) * 1.0)\n",
    "\n",
    "def evl(pop, target, retain=0.2, random_select=0.05, mutate=0.01):\n",
    "    \n",
    "    graded = [ (fitness(x, target), x) for x in pop]\n",
    "    graded = [ x[1] for x in sorted(graded)]\n",
    "    retain_length = int(len(graded)*retain)\n",
    "    parents = graded[:retain_length]\n",
    "    # randomly add other individuals to\n",
    "    # promote genetic diversity\n",
    "    for individual in graded[retain_length:]:\n",
    "        if random_select > random():\n",
    "            parents.append(individual)\n",
    "    # mutate some individuals\n",
    "    for individual in parents:\n",
    "        if mutate > random():\n",
    "            pos_to_mutate = randint(0, len(individual)-1)\n",
    "            # this mutation is not ideal, because it\n",
    "            # restricts the range of possible values,\n",
    "            # but the function is unaware of the min/max\n",
    "            # values used to create the individuals,\n",
    "            individual[pos_to_mutate] = randint(\n",
    "                min(individual), max(individual))\n",
    "    # crossover parents to create children\n",
    "    parents_length = len(parents)\n",
    "    desired_length = len(pop) - parents_length\n",
    "    children = []\n",
    "    while len(children) < desired_length:\n",
    "        male = randint(0, parents_length-1)\n",
    "        female = randint(0, parents_length-1)\n",
    "        if male != female:\n",
    "            male = parents[male]\n",
    "            female = parents[female]\n",
    "            half = len(male) / 2\n",
    "            child = male[:half] + female[half:]\n",
    "            children.append(child)\n",
    "    parents.extend(children)\n",
    "    return parents"
   ]
  },
  {
   "cell_type": "code",
   "execution_count": 1,
   "metadata": {
    "collapsed": false
   },
   "outputs": [],
   "source": [
    "# Example usage\n",
    "from genetic import *\n",
    "target = 371\n",
    "p_count = 100\n",
    "i_length = 6\n",
    "i_min = 0\n",
    "i_max = 100\n",
    "p = population(p_count, i_length, i_min, i_max)\n",
    "fitness_history = [grade(p, target),]\n",
    "for i in xrange(100):\n",
    "    p = evl(p, target)\n",
    "    fitness_history.append(grade(p, target))\n",
    "\n",
    "for datum in fitness_history:\n",
    "   print datum\n"
   ]
  },
  {
   "cell_type": "code",
   "execution_count": null,
   "metadata": {
    "collapsed": true
   },
   "outputs": [],
   "source": []
  }
 ],
 "metadata": {
  "anaconda-cloud": {},
  "kernelspec": {
   "display_name": "Python [Root]",
   "language": "python",
   "name": "Python [Root]"
  },
  "language_info": {
   "codemirror_mode": {
    "name": "ipython",
    "version": 2
   },
   "file_extension": ".py",
   "mimetype": "text/x-python",
   "name": "python",
   "nbconvert_exporter": "python",
   "pygments_lexer": "ipython2",
   "version": "2.7.12"
  }
 },
 "nbformat": 4,
 "nbformat_minor": 0
}
