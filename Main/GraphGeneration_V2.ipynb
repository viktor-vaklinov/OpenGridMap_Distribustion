{
 "cells": [
  {
   "cell_type": "markdown",
   "metadata": {},
   "source": [
    "# Get distance along shortest path  between two locations within Garching"
   ]
  },
  {
   "cell_type": "code",
   "execution_count": 1,
   "metadata": {
    "collapsed": false
   },
   "outputs": [],
   "source": [
    "import psycopg2\n",
    "import networkx as nx\n",
    "from itertools import tee\n",
    "import time \n",
    "from ipyleaflet import (\n",
    "    Map,\n",
    "    Marker,\n",
    "    TileLayer, ImageOverlay,\n",
    "    Polyline, Polygon, Rectangle, Circle, CircleMarker,\n",
    "    GeoJSON,\n",
    "    DrawControl\n",
    ")\n",
    "\n",
    "import graph_wrapper as gw\n",
    "%load_ext autoreload\n",
    "%autoreload 2\n",
    "\n",
    "def cleanMap(center, boundary): \n",
    "    # Mark transformer\n",
    "    tMarker =  Marker(location=center)\n",
    "    # Mark polygon\n",
    "    tPoly = Polygon(locations=boundary, weight=3,\n",
    "                color='#003d99', opacity=0.8, fill_opacity=0.0,\n",
    "                fill_color='#ccffcc') \n",
    "    tMap = Map(default_tiles=TileLayer(opacity=1.0),center=center ,zoom=13)\n",
    "    tMap.add_layer(tMarker)\n",
    "    tMap.add_layer(tPoly)\n",
    "    return tMap"
   ]
  },
  {
   "cell_type": "markdown",
   "metadata": {},
   "source": [
    "## Connect to remote db "
   ]
  },
  {
   "cell_type": "code",
   "execution_count": 7,
   "metadata": {
    "collapsed": false
   },
   "outputs": [],
   "source": [
    "hostaddr = raw_input('Enter server address:')\n",
    "db = raw_input('Enter database to connect:')\n",
    "user = raw_input('Enter username:')\n",
    "password = raw_input('Enter password:')\n",
    "conn = gw.connect_to_psql(dbname=db, user=user, password=password, hostaddr=hostaddr, remote=True)\n"
   ]
  },
  {
   "cell_type": "markdown",
   "metadata": {},
   "source": [
    "## Split roads within Garching and generate connected subgraphs"
   ]
  },
  {
   "cell_type": "code",
   "execution_count": 4,
   "metadata": {
    "collapsed": false
   },
   "outputs": [],
   "source": [
    "# Locate to Garching\n",
    "GARCHING = -30971\n",
    "garchingCenter, garchingPoly = gw.get_area(conn, reg_osm_id = GARCHING)\n",
    "\"\"\"\n",
    "# Execute following code to update the result of split_roads stored in database\n",
    "# Start of updating the split roads\n",
    "# Select roads of specified types\n",
    "# road_types=['motorway', 'trunk', 'primary', 'secondary', 'unclassified','tertiary', \n",
    "#            'residential', 'service', 'motorway_link', 'trunk_link', \n",
    "#            'primary_link', 'secondary_link', 'tertiary_link', \n",
    "#            'living_street', 'pedestrian', 'road', 'footway']\n",
    "\n",
    "# use all types of roads by creating an empty list\n",
    "road_types = []\n",
    "roads = gw.get_roads(conn, reg_osm_id = -30971, road_types = road_types)\n",
    "\n",
    "# Connect end and start points of paths, which are within 3 meters of each other\n",
    "merged_roads = gw.merge_roads(roads, 3)\n",
    "\n",
    "# Split roads of specified types\n",
    "t1 = time.time()\n",
    "split_roads_coords = gw.split_by_difference(merged_roads)\n",
    "print 'Totoal spliting time : %s' % (time.time() - t1) \n",
    "print 'Original roads: %d Split roads: %d ' % (len(roads), len(split_roads))\n",
    "\n",
    "# Store split result for convenience\n",
    "gw.store_split_roads(conn, split_roads_coords)\n",
    "\n",
    "# End of updating the split roads\n",
    "\"\"\"\n",
    "# Retrieve split roads stored in database\n",
    "split_roads = gw.fetch_split_roads(conn)\n",
    "\n",
    "# Generate a subgraph by connecting split roads\n",
    "subgraph = gw.generate_connected_subgraph(split_roads)"
   ]
  },
  {
   "cell_type": "markdown",
   "metadata": {},
   "source": [
    "## Check split roads"
   ]
  },
  {
   "cell_type": "code",
   "execution_count": 128,
   "metadata": {
    "collapsed": false
   },
   "outputs": [],
   "source": [
    "tMap = cleanMap(garchingCenter, garchingPoly)\n",
    "for rd in split_roads:\n",
    "    cs = Circle(location=rd[0], weight=2, opacity = 0.9, color = 'blue', radius = 3) \n",
    "    ce = Circle(location=rd[len(rd)-1], weight=2, opacity = 0.9, color = 'green', radius = 3) \n",
    "    tMap.add_layer(cs)\n",
    "    tMap.add_layer(ce)\n",
    "tMap"
   ]
  },
  {
   "cell_type": "markdown",
   "metadata": {},
   "source": [
    "## Test and visualisation"
   ]
  },
  {
   "cell_type": "code",
   "execution_count": 6,
   "metadata": {
    "collapsed": false
   },
   "outputs": [
    {
     "name": "stdout",
     "output_type": "stream",
     "text": [
      "Total length 6.939144\n"
     ]
    }
   ],
   "source": [
    "# Test sample\n",
    "source = (48.2515727076087, 11.6554101829255)#(48.2413, 11.6579)\n",
    "target = (48.2533079903546, 11.6556654277995)#(48.25150, 11.64837)\n",
    "\n",
    "source = (48.2363, 11.5638)\n",
    "target = (48.2518, 11.6608)\n",
    "\n",
    "path, length, graph = gw.find_shortest_path(source, target, subgraph)\n",
    "print 'Total length %f' % length\n",
    "\n",
    "# Show on map\n",
    "tMap = cleanMap(garchingCenter, garchingPoly)\n",
    "srcMarker = Circle(location=source, weight=2, opacity = 0.9, color = 'blue', radius = 3) \n",
    "tarMarker = Circle(location=target, weight=2, opacity = 0.9, color = 'green', radius = 3) \n",
    "tMap.add_layer(srcMarker)\n",
    "tMap.add_layer(tarMarker)\n",
    "\n",
    "sid, eid = tee(path) # Initial index of edge start and end node\n",
    "next(eid) # Move end node next to start\n",
    "for n1, n2 in zip(sid, eid):\n",
    "    pl = Polyline(locations=(n1,n2), weight=2, color='red', opacity=0.7) \n",
    "    tMap.add_layer(pl)\n",
    "tMap"
   ]
  }
 ],
 "metadata": {
  "anaconda-cloud": {},
  "kernelspec": {
   "display_name": "Python [Root]",
   "language": "python",
   "name": "Python [Root]"
  },
  "language_info": {
   "codemirror_mode": {
    "name": "ipython",
    "version": 2
   },
   "file_extension": ".py",
   "mimetype": "text/x-python",
   "name": "python",
   "nbconvert_exporter": "python",
   "pygments_lexer": "ipython2",
   "version": "2.7.12"
  },
  "widgets": {
   "state": {
    "9513aec544fe4d6db4961b8c03896ee4": {
     "views": [
      {
       "cell_index": 10
      }
     ]
    }
   },
   "version": "1.2.0"
  }
 },
 "nbformat": 4,
 "nbformat_minor": 0
}
