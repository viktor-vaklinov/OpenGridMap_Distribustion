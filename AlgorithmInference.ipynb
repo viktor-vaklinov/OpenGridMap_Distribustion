{
 "cells": [
  {
   "cell_type": "markdown",
   "metadata": {},
   "source": [
    "# OpenGridMap Notebook  -- Algorithm Inference"
   ]
  },
  {
   "cell_type": "raw",
   "metadata": {},
   "source": [
    "Before executing any code in this Notebook, you should \n",
    "1. make sure that you have installed necessary tools \n",
    "2. prepare a database gis in your local PostGis server. \n",
    "Please look at DataInstallation/install.txt for more details.\n",
    "\n",
    "The goal of this notebook is to\n",
    "1. Learn APIs of NetworkX\n",
    "3. Fuse required data into one or two compact tables"
   ]
  },
  {
   "cell_type": "markdown",
   "metadata": {},
   "source": [
    "# Step1. Data Preparation"
   ]
  },
  {
   "cell_type": "markdown",
   "metadata": {},
   "source": [
    "## Import necessary modules"
   ]
  },
  {
   "cell_type": "code",
   "execution_count": 20,
   "metadata": {
    "collapsed": true
   },
   "outputs": [],
   "source": [
    "import psycopg2\n",
    "import json\n",
    "import ipyleaflet as L\n",
    "import networkx as nx\n",
    "from ipyleaflet import (\n",
    "    Map,\n",
    "    Marker,\n",
    "    TileLayer, ImageOverlay,\n",
    "    Polyline, Polygon, Rectangle, Circle, CircleMarker,\n",
    "    GeoJSON,\n",
    "    DrawControl\n",
    ")"
   ]
  },
  {
   "cell_type": "markdown",
   "metadata": {},
   "source": [
    "## Database connection"
   ]
  },
  {
   "cell_type": "code",
   "execution_count": 21,
   "metadata": {
    "collapsed": false
   },
   "outputs": [],
   "source": [
    "# Set connection to gis db\n",
    "try:\n",
    "    conn = psycopg2.connect(\"dbname=gis user=jennyzhou\")\n",
    "except:\n",
    "    print 'Fail to connect to Postgres Server'"
   ]
  },
  {
   "cell_type": "markdown",
   "metadata": {},
   "source": [
    "## Select transformer, house within one vornoi area"
   ]
  },
  {
   "cell_type": "code",
   "execution_count": 31,
   "metadata": {
    "collapsed": false
   },
   "outputs": [],
   "source": [
    "cur = conn.cursor()\n",
    "vid = 38\n",
    "# Select vornoi polygon and transformer\n",
    "cur.execute(\"SELECT ST_AsGeoJSON((ST_FlipCoordinates(ST_Transform(way, 4326)))), \"\n",
    "            \"ST_AsGeoJSON((ST_FlipCoordinates(ST_Transform(tway, 4326)))) FROM vornoi where vid = %d ;\" % vid)\n",
    "data = cur.fetchall()\n",
    "\n",
    "# Select all the houses\n",
    "cur.execute(\"SELECT ST_AsGeoJSON(ST_Collect(ST_FlipCoordinates(ST_Transform(way, 4326)))) \"\n",
    "            \"FROM vornoi_map where vid = %d and istransformer = false ;\" % vid)\n",
    "houses = cur.fetchall()\n",
    "cur.close()\n",
    "\n",
    "vornoiJson = json.loads(data[0][0])\n",
    "transJson = json.loads(data[0][1])\n",
    "houseJson = json.loads(houses[0][0])"
   ]
  },
  {
   "cell_type": "markdown",
   "metadata": {},
   "source": [
    "# Step2. Data visualisation with ipyleaflet"
   ]
  },
  {
   "cell_type": "code",
   "execution_count": 32,
   "metadata": {
    "collapsed": false
   },
   "outputs": [],
   "source": [
    "# Mark transformer\n",
    "tCenter = transJson['coordinates']\n",
    "tMarker =  Marker(location=tCenter)\n",
    "\n",
    "# Mark polygon\n",
    "tPoly = Polygon(locations=vornoiJson['coordinates'], weight=2,\n",
    "            color='#a3c2c2', opacity=0.8, fill_opacity=0.2,\n",
    "            fill_color='#ccffcc') \n",
    "    \n",
    "# Init Map\n",
    "tMap = Map(default_tiles=TileLayer(opacity=1.0),center=tCenter ,zoom=16)\n",
    "tMap.add_layer(tMarker)\n",
    "tMap.add_layer(tPoly)\n",
    "tMap"
   ]
  },
  {
   "cell_type": "code",
   "execution_count": 35,
   "metadata": {
    "collapsed": false
   },
   "outputs": [],
   "source": [
    "# Mark houses\n",
    "hmarkers = []\n",
    "for hp in houseJson['coordinates']:\n",
    "    c = Circle(location= hp, weight=5, opacity = 0.5, color = 'red', radius = 2) \n",
    "    hmarkers.append(c)\n",
    "    tMap.add_layer(c) "
   ]
  },
  {
   "cell_type": "code",
   "execution_count": 34,
   "metadata": {
    "collapsed": true
   },
   "outputs": [],
   "source": [
    "for mk in hmarkers:\n",
    "    tMap.remove_layer(mk)"
   ]
  },
  {
   "cell_type": "markdown",
   "metadata": {},
   "source": [
    "# Step3. Construct network graph"
   ]
  },
  {
   "cell_type": "markdown",
   "metadata": {},
   "source": [
    "## Preparing vertices and edges"
   ]
  },
  {
   "cell_type": "code",
   "execution_count": 55,
   "metadata": {
    "collapsed": false
   },
   "outputs": [],
   "source": [
    "cur = conn.cursor()\n",
    "# Select vornoi polygon and transformer\n",
    "cur.execute(\"SELECT t1.oid, t2.oid, ST_Distance(t1.way, t2.way) \"\n",
    "            \"FROM (SELECT oid, way FROM vornoi_map WHERE vid = %d) AS t1, \"\n",
    "            \"(SELECT oid, way FROM vornoi_map WHERE vid = %d) AS t2 WHERE t1.oid != t2.oid;\"% (vid,vid))\n",
    "nodes = cur.fetchall()\n",
    "cur.close()"
   ]
  },
  {
   "cell_type": "markdown",
   "metadata": {},
   "source": [
    "## Build graph with data set"
   ]
  },
  {
   "cell_type": "code",
   "execution_count": 56,
   "metadata": {
    "collapsed": false
   },
   "outputs": [],
   "source": [
    "graph = []\n",
    "for ele in nodes:\n",
    "    graph.append(\"%d %d %f\" % ele)\n",
    "\n",
    "G = nx.parse_edgelist(graph, nodetype = int, data=(('weight',float),))"
   ]
  },
  {
   "cell_type": "code",
   "execution_count": 60,
   "metadata": {
    "collapsed": false
   },
   "outputs": [
    {
     "data": {
      "text/plain": [
       "int"
      ]
     },
     "execution_count": 60,
     "metadata": {},
     "output_type": "execute_result"
    }
   ],
   "source": [
    "MST = nx.minimum_spanning_tree(G)\n",
    "type(MST.edges()[0][1])\n"
   ]
  },
  {
   "cell_type": "raw",
   "metadata": {},
   "source": [
    "# Sql to create table to store graph\n",
    "\n",
    "CREATE TABLE graph (\n",
    "    gid int NOT NULL,\n",
    "    vid bigint,\n",
    "    type VARCHAR(30),\n",
    "    way geometry(MultiLineString,900913),\n",
    ");\n",
    "\n",
    "CREATE SEQUENCE graph_id_seq\n",
    "    START WITH 1\n",
    "    INCREMENT BY 1\n",
    "    NO MINVALUE\n",
    "    NO MAXVALUE\n",
    "    CACHE 1;\n",
    "\n",
    "ALTER SEQUENCE graph_id_seq OWNED BY graph.gid;\n",
    "ALTER TABLE ONLY graph ALTER COLUMN gid SET DEFAULT nextval('graph_id_seq'::regclass);"
   ]
  },
  {
   "cell_type": "code",
   "execution_count": 97,
   "metadata": {
    "collapsed": true
   },
   "outputs": [],
   "source": [
    "conn.close()\n",
    "conn = psycopg2.connect(\"dbname=gis user=jennyzhou\")\n",
    "\n"
   ]
  },
  {
   "cell_type": "markdown",
   "metadata": {},
   "source": [
    "## Minimum Spanning Tree"
   ]
  },
  {
   "cell_type": "code",
   "execution_count": 95,
   "metadata": {
    "collapsed": false
   },
   "outputs": [],
   "source": [
    "# To be implemented\n",
    "MST = nx.minimum_spanning_tree(G)\n",
    "\n",
    "# Storing minimum spanning tree into database\n",
    "cur = conn.cursor()\n",
    "cur.execute(\"CREATE TABLE IF NOT EXISTS templines (way geometry(LineString,900913));\")\n",
    "\n",
    "for edge in MST.edges():\n",
    "    (start, end) = edge\n",
    "    cur.execute(\"INSERT INTO templines (SELECT ST_MakeLine(t1.way, t2.way) \"\n",
    "                \"FROM (SELECT oid, way FROM vornoi_map WHERE vid = %d) AS t1, \"\n",
    "                \"(SELECT oid, way FROM vornoi_map WHERE vid = %d) AS t2 \"\n",
    "                \"WHERE t1.oid = %d AND t2.oid = %d);\"% (vid, vid, start, end ))\n",
    "    conn.commit()   \n",
    "    \n",
    "cur.execute(\"INSERT INTO graph (vid, type, way) SELECT %d, %s, ST_Collect(way) FROM templines;\"%(vid, '\\'Mst\\''))\n",
    "conn.commit()\n",
    "cur.close()"
   ]
  },
  {
   "cell_type": "markdown",
   "metadata": {},
   "source": [
    "# Step4. Display graph on map"
   ]
  },
  {
   "cell_type": "code",
   "execution_count": 102,
   "metadata": {
    "collapsed": false
   },
   "outputs": [],
   "source": [
    "cur = conn.cursor()\n",
    "cur.execute(\"SELECT ST_AsGeoJSON(ST_FlipCoordinates(ST_Transform(way, 4326)))\"\n",
    "            \"FROM graph WHERE vid = %d;\" %vid)\n",
    "lines = cur.fetchall()\n",
    "lineJson = json.loads(lines[0][0])"
   ]
  },
  {
   "cell_type": "code",
   "execution_count": 114,
   "metadata": {
    "collapsed": false
   },
   "outputs": [],
   "source": [
    "lmarkers = []\n",
    "for l in lineJson['coordinates']:\n",
    "    pl = Polyline(locations=l, weight=2, color='#2929a3', opacity=0.5)\n",
    "    lmarkers.append(pl)\n",
    "    tMap.add_layer(pl)\n",
    "tMap"
   ]
  },
  {
   "cell_type": "code",
   "execution_count": 113,
   "metadata": {
    "collapsed": true
   },
   "outputs": [],
   "source": [
    "for mk in lmarkers:\n",
    "    tMap.remove_layer(mk)"
   ]
  }
 ],
 "metadata": {
  "anaconda-cloud": {},
  "kernelspec": {
   "display_name": "Python [Root]",
   "language": "python",
   "name": "Python [Root]"
  },
  "language_info": {
   "codemirror_mode": {
    "name": "ipython",
    "version": 2
   },
   "file_extension": ".py",
   "mimetype": "text/x-python",
   "name": "python",
   "nbconvert_exporter": "python",
   "pygments_lexer": "ipython2",
   "version": "2.7.12"
  },
  "widgets": {
   "state": {
    "82b2d214af494e8986863ecd27213f4b": {
     "views": [
      {
       "cell_index": 10
      },
      {
       "cell_index": 25
      }
     ]
    }
   },
   "version": "1.2.0"
  }
 },
 "nbformat": 4,
 "nbformat_minor": 0
}
