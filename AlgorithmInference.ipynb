{
 "cells": [
  {
   "cell_type": "markdown",
   "metadata": {},
   "source": [
    "# OpenGridMap Notebook  -- Algorithm Inference"
   ]
  },
  {
   "cell_type": "markdown",
   "metadata": {},
   "source": [
    "Before executing any code in this Notebook, you should \n",
    "1. Install what specified in Installation.ipynb\n",
    "2. Understand DataPreparation.ipynb is also helpful\n",
    "\n",
    "The goal of this notebook is to\n",
    "1. Learn APIs of NetworkX\n",
    "2. Inference and test with different algorithms"
   ]
  },
  {
   "cell_type": "markdown",
   "metadata": {},
   "source": [
    "# Step1. Data Preparation"
   ]
  },
  {
   "cell_type": "markdown",
   "metadata": {},
   "source": [
    "## Import necessary modules"
   ]
  },
  {
   "cell_type": "code",
   "execution_count": 6,
   "metadata": {
    "collapsed": false
   },
   "outputs": [],
   "source": [
    "import psycopg2\n",
    "import json\n",
    "import ipyleaflet as L\n",
    "import networkx as nx\n",
    "from networkx.algorithms import approximation as approx\n",
    "from ipyleaflet import (\n",
    "    Map,\n",
    "    Marker,\n",
    "    TileLayer, ImageOverlay,\n",
    "    Polyline, Polygon, Rectangle, Circle, CircleMarker,\n",
    "    GeoJSON,\n",
    "    DrawControl\n",
    ")\n",
    "import math\n",
    "import matplotlib.pyplot as plt\n",
    "%matplotlib inline\n",
    "\n",
    "\n",
    "def cleanMap(transJson, vornoiJson): \n",
    "    # Mark transformer\n",
    "    tCenter = transJson['coordinates']\n",
    "    tMarker =  Marker(location=tCenter)\n",
    "    # Mark polygon\n",
    "    tPoly = Polygon(locations=vornoiJson['coordinates'], weight=2,\n",
    "                color='#a3c2c2', opacity=0.8, fill_opacity=0.2,\n",
    "                fill_color='#ccffcc') \n",
    "    \n",
    "    tMap = Map(default_tiles=TileLayer(opacity=1.0),center=tCenter ,zoom=16)\n",
    "    tMap.add_layer(tMarker)\n",
    "    tMap.add_layer(tPoly)\n",
    "    return tMap\n",
    "\n",
    "def connect(broken):# Set connection to gis db\n",
    "    if broken:\n",
    "        conn.close()\n",
    "    try:\n",
    "        conn = psycopg2.connect(\"dbname=gis user=jennyzhou\")\n",
    "    except:\n",
    "        print 'Fail to connect to Postgres Server'\n",
    "    return conn"
   ]
  },
  {
   "cell_type": "markdown",
   "metadata": {},
   "source": [
    "## Database connection"
   ]
  },
  {
   "cell_type": "code",
   "execution_count": 7,
   "metadata": {
    "collapsed": false
   },
   "outputs": [],
   "source": [
    "conn = connect(False)"
   ]
  },
  {
   "cell_type": "markdown",
   "metadata": {},
   "source": [
    "## Select transformer, house within one vornoi area"
   ]
  },
  {
   "cell_type": "code",
   "execution_count": 8,
   "metadata": {
    "collapsed": false
   },
   "outputs": [],
   "source": [
    "cur = conn.cursor()\n",
    "vid = 38\n",
    "# Select vornoi polygon and transformer\n",
    "cur.execute(\"SELECT ST_AsGeoJSON((ST_FlipCoordinates(ST_Transform(way, 4326)))), \"\n",
    "            \"ST_AsGeoJSON((ST_FlipCoordinates(ST_Transform(tway, 4326)))) FROM vornoi WHERE vid = %d ;\" % vid)\n",
    "data = cur.fetchall()\n",
    "\n",
    "# Select all the houses\n",
    "cur.execute(\"SELECT ST_AsGeoJSON(ST_Collect(ST_FlipCoordinates(ST_Transform(way, 4326)))) \"\n",
    "            \"FROM vornoi_map where vid = %d and istransformer = false ;\" % vid)\n",
    "houses = cur.fetchall()\n",
    "cur.close()\n",
    "\n",
    "vornoiJson = json.loads(data[0][0])\n",
    "transJson = json.loads(data[0][1])\n",
    "houseJson = json.loads(houses[0][0])"
   ]
  },
  {
   "cell_type": "markdown",
   "metadata": {},
   "source": [
    "# Step2. Data visualisation with ipyleaflet"
   ]
  },
  {
   "cell_type": "code",
   "execution_count": 336,
   "metadata": {
    "collapsed": false
   },
   "outputs": [],
   "source": [
    "tMap = cleanMap(transJson, vornoiJson)\n",
    "tMap"
   ]
  },
  {
   "cell_type": "code",
   "execution_count": 200,
   "metadata": {
    "collapsed": false
   },
   "outputs": [],
   "source": [
    "# Mark houses\n",
    "hmarkers = []\n",
    "for hp in houseJson['coordinates'][0:1]:\n",
    "    c = Circle(location= hp, weight=5, opacity = 0.5, color = '#00134d', radius = 2) \n",
    "    hmarkers.append(c)\n",
    "    tMap.add_layer(c) "
   ]
  },
  {
   "cell_type": "code",
   "execution_count": 198,
   "metadata": {
    "collapsed": true
   },
   "outputs": [],
   "source": [
    "for mk in hmarkers:\n",
    "    tMap.remove_layer(mk)"
   ]
  },
  {
   "cell_type": "markdown",
   "metadata": {},
   "source": [
    "## Locating the roads"
   ]
  },
  {
   "cell_type": "code",
   "execution_count": 24,
   "metadata": {
    "collapsed": false
   },
   "outputs": [],
   "source": [
    "#conn = connect(False)\n",
    "# Select roads near one house\n",
    "cur = conn.cursor()\n",
    "# cur.execute(\"SELECT ST_AsGeoJSON(ST_Collect((ST_FlipCoordinates(ST_Transform(way, 4326))))) FROM planet_osm_line WHERE \"\n",
    "#             \"(ST_Crosses(way,(SELECT way FROM vornoi where vid = %d)) = true \" \n",
    "#             \"OR ST_Within(way,(SELECT way FROM vornoi where vid = %d)) = true)\"\n",
    "#             \"AND highway in ('residential');\" % (vid,vid))\n",
    "\n",
    "# ST_ClosestPoint(geometry g1, geometry g2)\n",
    "# Large road: 'residential'; Small road: 'footway'; Park road: 'service'; 'step' same as 'track'\n",
    "cur.execute(\"SELECT ST_AsGeoJSON(ST_Collect(ST_FlipCoordinates(ST_Transform(t1.way, 4326)))), \"\n",
    "            \"ST_AsGeoJSON(ST_Collect((ST_FlipCoordinates(ST_Transform(t2.way, 4326))))) \"\n",
    "            \"FROM (SELECT way FROM vornoi_map WHERE vid = %d AND istransformer = false LIMIT 2) AS t1, \"\n",
    "            \"(SELECT way FROM planet_osm_line WHERE highway in ('residential') \"\n",
    "            \"AND ST_DWithin(way,(SELECT way FROM vornoi WHERE vid = %d ), 1) = true) AS t2 \"\n",
    "            \"WHERE ST_DWithin(t1.way, t2.way, 60) = true;\" % (vid,vid))\n",
    "road_hs = cur.fetchall()\n",
    "\n",
    "### Select roads of this vornoi \n",
    "# cur.execute(\"SELECT ST_AsGeoJSON(ST_Collect((ST_FlipCoordinates(ST_Transform(way, 4326))))) FROM planet_osm_line \"\n",
    "#             \"WHERE ST_DWithin((SELECT way FROM vornoi WHERE vid = %d), way, 1) = true \"\n",
    "#             \"AND highway in('residential');\"% vid)# \")\n",
    "# roads = cur.fetchall()\n",
    "# roadVorJson = json.loads(roads[0][0])\n",
    "\n",
    "### Main street from Garching\n",
    "# cur.execute(\"SELECT ST_AsGeoJSON(ST_Collect((ST_FlipCoordinates(ST_Transform(way, 4326))))) FROM planet_osm_line \"\n",
    "#             \"WHERE ST_Within(way,(SELECT way FROM planet_osm_polygon WHERE osm_id = -30971 )) = true \"\n",
    "#             \"AND highway in ('residential');\")# in('primary','secondary','primary_link');\")\n",
    "cur.close()\n",
    "hJson = json.loads(road_hs[0][0])\n",
    "roadJson = json.loads(road_hs[0][1])"
   ]
  },
  {
   "cell_type": "code",
   "execution_count": 35,
   "metadata": {
    "collapsed": false
   },
   "outputs": [
    {
     "name": "stdout",
     "output_type": "stream",
     "text": [
      "3\n",
      "3\n",
      "[[48.2528591749442, 11.6464178982603], [48.2528429055817, 11.646492817755], [48.2528036078721, 11.6466796673341], [48.2527902693733, 11.6467524308721], [48.2527756747787, 11.6468755898975], [48.2527582091108, 11.6470348611974], [48.252746365949, 11.6472310532554], [48.2527399658554, 11.6474395522329], [48.2527357788778, 11.6475727723895], [48.2527259095722, 11.6478583468183], [48.2527238160829, 11.647917276301], [48.2527222011053, 11.6479752176368], [48.2527110158892, 11.6483764052427], [48.2527077859333, 11.6484819572886], [48.252696899784, 11.6488343663745], [48.252689901544, 11.6490638859296], [48.2526799724155, 11.649381350551]]\n",
      "[[48.2505254853757, 11.6473775684783], [48.2505482754774, 11.6474081111979], [48.2505794996947, 11.6474221249164], [48.2506051609624, 11.6474118841221], [48.2506789146043, 11.6473827787069], [48.2507466865108, 11.64738942624], [48.2507697755952, 11.6473915821967], [48.2509937870259, 11.6474518591523], [48.2511658175679, 11.6474981223894], [48.2513630897094, 11.6475512128227], [48.2515684959757, 11.6476064592127], [48.251631780559, 11.6476235272031], [48.2517703723264, 11.6476608072874], [48.2518097904601, 11.6476714074077], [48.2521058741046, 11.6477510879734], [48.2521527089967, 11.6477636643874], [48.2522773027603, 11.6477971715475], [48.2526534747921, 11.64789841168], [48.2527238160829, 11.647917276301]]\n",
      "[[48.2528591749442, 11.6464178982603], [48.2528429055817, 11.646492817755], [48.2528036078721, 11.6466796673341], [48.2527902693733, 11.6467524308721], [48.2527756747787, 11.6468755898975], [48.2527582091108, 11.6470348611974], [48.252746365949, 11.6472310532554], [48.2527399658554, 11.6474395522329], [48.2527357788778, 11.6475727723895], [48.2527259095722, 11.6478583468183], [48.2527238160829, 11.647917276301], [48.2527222011053, 11.6479752176368], [48.2527110158892, 11.6483764052427], [48.2527077859333, 11.6484819572886], [48.252696899784, 11.6488343663745], [48.252689901544, 11.6490638859296], [48.2526799724155, 11.649381350551]]\n"
     ]
    }
   ],
   "source": [
    "# SELE line_interpolate_point(linestring, line_locate_point(LineString, Point))\n",
    "# cur = conn.cursor()\n",
    "# cur.execute(\"SELECT ST_AsText(ST_Intersection(\"\n",
    "#             \"ST_GeographyFromText('SRID=4326;LINESTRING(48.2523389116623 11.6491627006109,48.2522655791162 11.6491680905026)'),\"\n",
    "#             \"ST_GeographyFromText('SRID=4326;LINESTRING(48.2522697063177 11.6491294629454,48.2522521806625 11.6492982563873)')));\")\n",
    "# ins = cur.fetchall()\n",
    "# cur.close()\n",
    "print len(hJson['coordinates'])\n",
    "print len(roadJson['coordinates'])\n",
    "for rd in roadJson['coordinates']:\n",
    "    print rd"
   ]
  },
  {
   "cell_type": "code",
   "execution_count": 38,
   "metadata": {
    "collapsed": false
   },
   "outputs": [],
   "source": [
    "tMap = cleanMap(transJson, vornoiJson)\n",
    "pylines = []\n",
    "for hs in hJson['coordinates']:\n",
    "    hc = Circle(location=hs, weight=5, opacity = 0.5, color = '#00134d', radius = 2) \n",
    "    pylines.append(hc)\n",
    "    tMap.add_layer(hc)\n",
    "\n",
    "#for rd in roadJson['coordinates']:\n",
    "#for rd in x:\n",
    "pl = Polyline(locations=roadJson['coordinates'][2], weight=3,color='red', opacity=0.8) \n",
    "pylines.append(pl)\n",
    "tMap.add_layer(pl) \n",
    "    \n",
    "# for rd in roadVorJson['coordinates']:\n",
    "# #for rd in x:\n",
    "# #rd = [[48.2522697063177, 11.6491294629454],[48.2522521806625, 11.6492982563873]]\n",
    "#     pl = Polyline(locations=rd, weight=3,color='blue', opacity=0.8) \n",
    "#     pylines.append(pl)\n",
    "#     tMap.add_layer(pl) \n",
    "tMap"
   ]
  },
  {
   "cell_type": "code",
   "execution_count": 334,
   "metadata": {
    "collapsed": false
   },
   "outputs": [],
   "source": [
    "for mk in pylines:\n",
    "    tMap.remove_layer(mk)\n"
   ]
  },
  {
   "cell_type": "markdown",
   "metadata": {},
   "source": [
    "# Step3. Construct network graph"
   ]
  },
  {
   "cell_type": "markdown",
   "metadata": {},
   "source": [
    "## Preparing vertices and edges"
   ]
  },
  {
   "cell_type": "code",
   "execution_count": 5,
   "metadata": {
    "collapsed": false
   },
   "outputs": [],
   "source": [
    "cur = conn.cursor()\n",
    "# Select vornoi polygon and transformer\n",
    "cur.execute(\"SELECT oid FROM vornoi_map WHERE vid = %d and istransformer = True;\"%vid)\n",
    "tid = cur.fetchall()[0][0]\n",
    "cur.execute(\"SELECT t1.oid, t2.oid, ST_Distance(t1.way, t2.way) \"\n",
    "            \"FROM (SELECT oid, way FROM vornoi_map WHERE vid = %d) AS t1, \"\n",
    "            \"(SELECT oid, way FROM vornoi_map WHERE vid = %d and istransformer = False) AS t2 \"\n",
    "            \"WHERE t1.oid != t2.oid ;\"% (vid,vid))\n",
    "nodes = cur.fetchall()\n",
    "cur.close()"
   ]
  },
  {
   "cell_type": "code",
   "execution_count": 79,
   "metadata": {
    "collapsed": false
   },
   "outputs": [],
   "source": [
    "def saveGraph(conn, vid, edgeList, name):\n",
    "    # Store result into database\n",
    "    cur = conn.cursor()\n",
    "    # Check wheter already stored\n",
    "    cur.execute(\"SELECT ST_AsGeoJSON(ST_FlipCoordinates(ST_Transform(way, 4326)))\"\n",
    "                \"FROM graph WHERE type = '%s' AND vid = %d;\" %(name,vid))\n",
    "    lines = cur.fetchall()\n",
    "    # If not, store minimum spanning tree into database\n",
    "    if len(lines)==0:\n",
    "        print 'Storing topology of %s into db'%name\n",
    "        cur.execute(\"CREATE TABLE IF NOT EXISTS templines (way geometry(LineString,900913));\")\n",
    "        conn.commit()   \n",
    "        # clean entries\n",
    "        cur.execute(\"DELETE FROM templines;\")\n",
    "        conn.commit()   \n",
    "\n",
    "        for edge in edgeList:\n",
    "            (start, end) = edge\n",
    "            cur.execute(\"INSERT INTO templines (SELECT ST_MakeLine(t1.way, t2.way) \"\n",
    "                        \"FROM (SELECT oid, way FROM vornoi_map WHERE vid = %d) AS t1, \"\n",
    "                        \"(SELECT oid, way FROM vornoi_map WHERE vid = %d) AS t2 \"\n",
    "                        \"WHERE t1.oid = %d AND t2.oid = %d);\"% (vid, vid, start, end ))\n",
    "            conn.commit()   \n",
    "\n",
    "        cur.execute(\"INSERT INTO graph (vid, type, way) SELECT %d, '%s', ST_Collect(way) FROM templines;\"%(vid, name))\n",
    "        conn.commit()\n",
    "        cur.execute(\"SELECT ST_AsGeoJSON(ST_FlipCoordinates(ST_Transform(way, 4326)))\"\n",
    "                    \"FROM graph WHERE type = '%s' AND vid = %d;\" %(name,vid))\n",
    "        lines = cur.fetchall()\n",
    "    cur.close()\n",
    "    return lines"
   ]
  },
  {
   "cell_type": "markdown",
   "metadata": {},
   "source": [
    "## Network Simplex "
   ]
  },
  {
   "cell_type": "code",
   "execution_count": 80,
   "metadata": {
    "collapsed": false
   },
   "outputs": [
    {
     "name": "stdout",
     "output_type": "stream",
     "text": [
      "90 90\n",
      "Storing topology of NS into db\n"
     ]
    }
   ],
   "source": [
    "# Build  directed graph\n",
    "graph = []\n",
    "for ele in nodes:\n",
    "    w = int(math.floor(ele[2]))\n",
    "    graph.append(\"%d %d %d\" % (ele[0],ele[1],w))\n",
    "G_ = nx.parse_edgelist(graph, create_using = nx.DiGraph(), nodetype = int, data=(('weight',int),))\n",
    "assert G_.has_node(tid)\n",
    "\n",
    "for n in G_.nodes(data=True):\n",
    "    n[1]['demand'] = 1\n",
    "G_.add_node(tid, demand = -len(G_.nodes())+1)\n",
    "flowCost, flowDict = nx.capacity_scaling(G_)\n",
    "#flowCost, flowDict = nx.network_simplex(G_)\n",
    "NS = sorted([(u, v) for u in flowDict for v in flowDict[u] if flowDict[u][v] > 0])\n",
    "\n",
    "print approx.node_connectivity(G_), len(NS)\n",
    "lines = saveGraph(conn, vid, NS, 'NS')"
   ]
  },
  {
   "cell_type": "markdown",
   "metadata": {},
   "source": [
    "## Minimum Spanning Tree"
   ]
  },
  {
   "cell_type": "code",
   "execution_count": 9,
   "metadata": {
    "collapsed": false
   },
   "outputs": [
    {
     "name": "stdout",
     "output_type": "stream",
     "text": [
      "90 91\n"
     ]
    }
   ],
   "source": [
    "graph = []\n",
    "for ele in nodes:\n",
    "    graph.append(\"%d %d %f\" % ele)\n",
    "G = nx.parse_edgelist(graph, nodetype = int, data=(('weight',float),))\n",
    "\n",
    "MST = nx.minimum_spanning_tree(G)\n",
    "print approx.node_connectivity(G), len(MST.nodes())\n",
    "#lines = saveGraph(conn, vid, MST.edges(), 'MST')"
   ]
  },
  {
   "cell_type": "markdown",
   "metadata": {},
   "source": [
    "## Minimum Spanning Arborescence "
   ]
  },
  {
   "cell_type": "code",
   "execution_count": 84,
   "metadata": {
    "collapsed": false
   },
   "outputs": [
    {
     "name": "stdout",
     "output_type": "stream",
     "text": [
      "90 91\n",
      "Storing topology of MSA into db\n"
     ]
    }
   ],
   "source": [
    "graph = []\n",
    "for ele in nodes:\n",
    "    graph.append(\"%d %d %f\" % ele)\n",
    "G_ = nx.parse_edgelist(graph, create_using = nx.DiGraph(), nodetype = int, data=(('weight',float),))\n",
    "assert G_.has_node(tid)\n",
    "\n",
    "MSA = nx.minimum_spanning_arborescence(G_)\n",
    "print approx.node_connectivity(G_), len(MSA.nodes())\n",
    "\n",
    "lines = saveGraph(conn, vid, MSA.edges(), 'MSA')"
   ]
  },
  {
   "cell_type": "markdown",
   "metadata": {},
   "source": [
    "## Minimum Branching "
   ]
  },
  {
   "cell_type": "code",
   "execution_count": 89,
   "metadata": {
    "collapsed": false,
    "scrolled": true
   },
   "outputs": [],
   "source": [
    "# Not applicable\n",
    "# graph = []\n",
    "# for ele in nodes:\n",
    "#     graph.append(\"%d %d %f\" % ele)\n",
    "# G_ = nx.parse_edgelist(graph, create_using = nx.DiGraph(), nodetype = int, data=(('weight',float),))\n",
    "# assert G_.has_node(tid)\n",
    "\n",
    "# MB = nx.minimum_branching(G_)\n",
    "# print approx.node_connectivity(G_),len(MB.nodes())\n",
    "# lines = saveGraph(conn, vid, MB.edges(), 'MB')\n",
    "# print len(res[0][0])\n"
   ]
  },
  {
   "cell_type": "markdown",
   "metadata": {},
   "source": [
    "# Step4. Display graph on map"
   ]
  },
  {
   "cell_type": "code",
   "execution_count": 87,
   "metadata": {
    "collapsed": false
   },
   "outputs": [],
   "source": [
    "tmpJson = json.loads(lines[0][0])\n",
    "lmarkers = []\n",
    "\n",
    "tmpMap = cleanMap(transJson, vornoiJson)\n",
    "for l in tmpJson['coordinates']:\n",
    "    pl = Polyline(locations=l, weight=2, color='#2929a3', opacity=0.5)\n",
    "    lmarkers.append(pl)\n",
    "    tmpMap.add_layer(pl)\n",
    "tmpMap"
   ]
  },
  {
   "cell_type": "raw",
   "metadata": {},
   "source": [
    "# Sql to create table to store graph\n",
    "\n",
    "CREATE TABLE graph (\n",
    "    gid int NOT NULL,\n",
    "    vid bigint,\n",
    "    type VARCHAR(30),\n",
    "    way geometry(MultiLineString,900913),\n",
    ");\n",
    "\n",
    "CREATE SEQUENCE graph_id_seq\n",
    "    START WITH 1\n",
    "    INCREMENT BY 1\n",
    "    NO MINVALUE\n",
    "    NO MAXVALUE\n",
    "    CACHE 1;\n",
    "\n",
    "ALTER SEQUENCE graph_id_seq OWNED BY graph.gid;\n",
    "ALTER TABLE ONLY graph ALTER COLUMN gid SET DEFAULT nextval('graph_id_seq'::regclass);"
   ]
  }
 ],
 "metadata": {
  "anaconda-cloud": {},
  "kernelspec": {
   "display_name": "Python [Root]",
   "language": "python",
   "name": "Python [Root]"
  },
  "language_info": {
   "codemirror_mode": {
    "name": "ipython",
    "version": 2
   },
   "file_extension": ".py",
   "mimetype": "text/x-python",
   "name": "python",
   "nbconvert_exporter": "python",
   "pygments_lexer": "ipython2",
   "version": "2.7.12"
  },
  "widgets": {
   "state": {
    "a478674f0ac54d6bb9f3323f7cfd38d9": {
     "views": [
      {
       "cell_index": 16
      }
     ]
    },
    "e63a18dc9c544883b4afd5bc52979f95": {
     "views": [
      {
       "cell_index": 10
      }
     ]
    }
   },
   "version": "1.2.0"
  }
 },
 "nbformat": 4,
 "nbformat_minor": 0
}
