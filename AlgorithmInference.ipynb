{
 "cells": [
  {
   "cell_type": "markdown",
   "metadata": {},
   "source": [
    "# OpenGridMap Notebook  -- Algorithm Inference"
   ]
  },
  {
   "cell_type": "markdown",
   "metadata": {},
   "source": [
    "Before executing any code in this Notebook, you should \n",
    "1. Install what specified in Installation.ipynb\n",
    "2. Understand DataPreparation.ipynb is also helpful\n",
    "\n",
    "The goal of this notebook is to\n",
    "1. Learn APIs of NetworkX\n",
    "2. Inference and test with different algorithms"
   ]
  },
  {
   "cell_type": "markdown",
   "metadata": {},
   "source": [
    "# Step1. Data Preparation"
   ]
  },
  {
   "cell_type": "markdown",
   "metadata": {},
   "source": [
    "## Import necessary modules"
   ]
  },
  {
   "cell_type": "code",
   "execution_count": 6,
   "metadata": {
    "collapsed": false
   },
   "outputs": [],
   "source": [
    "import psycopg2\n",
    "import json\n",
    "import ipyleaflet as L\n",
    "import networkx as nx\n",
    "from networkx.algorithms import approximation as approx\n",
    "from ipyleaflet import (\n",
    "    Map,\n",
    "    Marker,\n",
    "    TileLayer, ImageOverlay,\n",
    "    Polyline, Polygon, Rectangle, Circle, CircleMarker,\n",
    "    GeoJSON,\n",
    "    DrawControl\n",
    ")\n",
    "import math\n",
    "import matplotlib.pyplot as plt\n",
    "%matplotlib inline\n",
    "\n",
    "\n",
    "def cleanMap(transJson, vornoiJson): \n",
    "    # Mark transformer\n",
    "    tCenter = transJson['coordinates']\n",
    "    tMarker =  Marker(location=tCenter)\n",
    "    # Mark polygon\n",
    "    tPoly = Polygon(locations=vornoiJson['coordinates'], weight=2,\n",
    "                color='#a3c2c2', opacity=0.8, fill_opacity=0.2,\n",
    "                fill_color='#ccffcc') \n",
    "    \n",
    "    tMap = Map(default_tiles=TileLayer(opacity=1.0),center=tCenter ,zoom=16)\n",
    "    tMap.add_layer(tMarker)\n",
    "    tMap.add_layer(tPoly)\n",
    "    return tMap\n",
    "\n",
    "def connect(broken):# Set connection to gis db\n",
    "    if broken:\n",
    "        conn.close()\n",
    "    try:\n",
    "        conn = psycopg2.connect(\"dbname=gis user=jennyzhou\")\n",
    "    except:\n",
    "        print 'Fail to connect to Postgres Server'\n",
    "    return conn"
   ]
  },
  {
   "cell_type": "markdown",
   "metadata": {},
   "source": [
    "## Database connection"
   ]
  },
  {
   "cell_type": "code",
   "execution_count": 7,
   "metadata": {
    "collapsed": false
   },
   "outputs": [],
   "source": [
    "conn = connect(False)"
   ]
  },
  {
   "cell_type": "markdown",
   "metadata": {},
   "source": [
    "## Select transformer, house within one vornoi area"
   ]
  },
  {
   "cell_type": "code",
   "execution_count": 8,
   "metadata": {
    "collapsed": false
   },
   "outputs": [],
   "source": [
    "cur = conn.cursor()\n",
    "vid = 38\n",
    "# Select vornoi polygon and transformer\n",
    "cur.execute(\"SELECT ST_AsGeoJSON((ST_FlipCoordinates(ST_Transform(way, 4326)))), \"\n",
    "            \"ST_AsGeoJSON((ST_FlipCoordinates(ST_Transform(tway, 4326)))) FROM vornoi WHERE vid = %d ;\" % vid)\n",
    "data = cur.fetchall()\n",
    "\n",
    "# Select all the houses\n",
    "cur.execute(\"SELECT ST_AsGeoJSON(ST_Collect(ST_FlipCoordinates(ST_Transform(way, 4326)))) \"\n",
    "            \"FROM vornoi_map where vid = %d and istransformer = false ;\" % vid)\n",
    "houses = cur.fetchall()\n",
    "cur.close()\n",
    "\n",
    "vornoiJson = json.loads(data[0][0])\n",
    "transJson = json.loads(data[0][1])\n",
    "houseJson = json.loads(houses[0][0])"
   ]
  },
  {
   "cell_type": "markdown",
   "metadata": {},
   "source": [
    "# Step2. Data visualisation with ipyleaflet"
   ]
  },
  {
   "cell_type": "code",
   "execution_count": 336,
   "metadata": {
    "collapsed": false
   },
   "outputs": [],
   "source": [
    "tMap = cleanMap(transJson, vornoiJson)\n",
    "tMap"
   ]
  },
  {
   "cell_type": "code",
   "execution_count": 200,
   "metadata": {
    "collapsed": false
   },
   "outputs": [],
   "source": [
    "# Mark houses\n",
    "hmarkers = []\n",
    "for hp in houseJson['coordinates'][0:1]:\n",
    "    c = Circle(location= hp, weight=5, opacity = 0.5, color = '#00134d', radius = 2) \n",
    "    hmarkers.append(c)\n",
    "    tMap.add_layer(c) "
   ]
  },
  {
   "cell_type": "code",
   "execution_count": 198,
   "metadata": {
    "collapsed": true
   },
   "outputs": [],
   "source": [
    "for mk in hmarkers:\n",
    "    tMap.remove_layer(mk)"
   ]
  },
  {
   "cell_type": "markdown",
   "metadata": {},
   "source": [
    "### DB Usage\n",
    "1. Most roads information can be obtained in table planet_osm_line\n",
    "2. We use 'highway' field to filter different types of road.\n",
    "3. Tags for 'highway':\n",
    "   - Large road: 'residential'; Small road: 'footway'; Park road: 'service'; 'step' same as 'track'\n",
    "   - The main tag we require by now is 'residential'\n"
   ]
  },
  {
   "cell_type": "markdown",
   "metadata": {},
   "source": [
    "## Find roads near to a house within specified distance range"
   ]
  },
  {
   "cell_type": "code",
   "execution_count": 195,
   "metadata": {
    "collapsed": false
   },
   "outputs": [],
   "source": [
    "cur = conn.cursor()\n",
    "### Main street from Garching\n",
    "# cur.execute(\"SELECT ST_AsGeoJSON(ST_Collect((ST_FlipCoordinates(ST_Transform(way, 4326))))) FROM planet_osm_line \"\n",
    "#             \"WHERE ST_Within(way,(SELECT way FROM planet_osm_polygon WHERE osm_id = -30971 )) = true \"\n",
    "#             \"AND highway in ('residential');\")# in('primary','secondary','primary_link');\")\n",
    "\n",
    "cur.execute(\"SELECT ST_AsGeoJSON(ST_FlipCoordinates(ST_Transform(t1.way, 4326))), \"\n",
    "            \"ST_AsGeoJSON(ST_Collect((ST_FlipCoordinates(ST_Transform(t2.way, 4326))))) \"\n",
    "            \"FROM (SELECT way FROM vornoi_map WHERE vid = %d AND istransformer = false LIMIT 2) AS t1, \"\n",
    "            \"(SELECT way FROM planet_osm_line WHERE highway in ('residential') \"\n",
    "            \"AND ST_DWithin(way,(SELECT way FROM vornoi WHERE vid = %d ), 1) = true) AS t2 \"\n",
    "            \"WHERE ST_DWithin(t1.way, t2.way, 60) = true GROUP BY t1.way;\" % (vid,vid))\n",
    "hsRdMap = cur.fetchall()\n",
    "tMap = cleanMap(transJson, vornoiJson)\n",
    "cur.close()\n",
    "\n",
    "# House point and nearest projected point on the road\n",
    "for i in range(len(hsRdMap)):\n",
    "    house = json.loads(hsRdMap[i][0])['coordinates']\n",
    "    omk = Circle(location=house, weight=5, opacity = 0.5, color = '#00134d', radius = 2) \n",
    "    tMap.add_layer(omk)\n",
    "\n",
    "    roadJson = json.loads(hsRdMap[i][1])\n",
    "    for rd in roadJson['coordinates']:\n",
    "        pl = Polyline(locations=rd, weight=2, color='red', opacity=0.8) \n",
    "        tMap.add_layer(pl)    \n",
    "tMap\n"
   ]
  },
  {
   "cell_type": "markdown",
   "metadata": {},
   "source": [
    "## Project houses to roads within specified distance range"
   ]
  },
  {
   "cell_type": "code",
   "execution_count": 201,
   "metadata": {
    "collapsed": true
   },
   "outputs": [],
   "source": [
    "cur = conn.cursor()\n",
    "cur.execute(\"SELECT ST_AsGeoJSON(ST_FlipCoordinates(ST_Transform(t1.way, 4326))), \"\n",
    "            \"ST_AsGeoJSON(ST_Collect(ST_FlipCoordinates(ST_Transform(ST_ClosestPoint(t2.way, t1.way), 4326)))) \"\n",
    "            \"FROM (SELECT way FROM vornoi_map WHERE vid = %d AND istransformer = false LIMIT 2) AS t1, \"\n",
    "            \"(SELECT way FROM planet_osm_line WHERE highway in ('residential') \"\n",
    "            \"AND ST_DWithin(way,(SELECT way FROM vornoi WHERE vid = %d ), 1) = true) AS t2 \"\n",
    "            \"WHERE ST_DWithin(t1.way, t2.way, 100) = true GROUP BY t1.way;\" % (vid,vid))\n",
    "hsRdMap = cur.fetchall()\n",
    "tMap = cleanMap(transJson, vornoiJson)\n",
    "# House point and nearest projected point on the road\n",
    "for i in range(len(hsRdMap)):\n",
    "    house = json.loads(hsRdMap[i][0])['coordinates']\n",
    "    omk = Circle(location=house, weight=5, opacity = 0.5, color = '#00134d', radius = 2) \n",
    "    tMap.add_layer(omk)\n",
    "\n",
    "    proJson = json.loads(hsRdMap[i][1])\n",
    "    for proj in proJson['coordinates']:\n",
    "        pmk = Circle(location=proj, weight=5, opacity = 0.5, color = '#003300', radius = 2) \n",
    "        tMap.add_layer(pmk)\n",
    "        \n",
    "        line = [house, proj]\n",
    "        pl = Polyline(locations=line, weight=2, color='red', opacity=0.8) \n",
    "        tMap.add_layer(pl)  \n",
    "        \n",
    "# Method 2\n",
    "cur.execute(\"SELECT ST_AsGeoJSON(ST_FlipCoordinates(ST_Transform(t1.way, 4326))), \"\n",
    "            #\"ST_AsGeoJSON(ST_FlipCoordinates(ST_Transform(t2.way, 4326))), \"\n",
    "            \"ST_AsGeoJSON(ST_FlipCoordinates(ST_Transform(ST_ClosestPoint(t2.way, t1.way), 4326))), \"\n",
    "            \"ST_Distance(t1.way, t2.way) \"\n",
    "            \"FROM \"\n",
    "            \"(SELECT way FROM vornoi_map WHERE vid = %d AND istransformer = false LIMIT 2) AS t1 LEFT JOIN \"\n",
    "            \"(SELECT way FROM planet_osm_line WHERE highway in ('residential') \"\n",
    "            \"AND ST_DWithin(way,(SELECT way FROM vornoi WHERE vid = %d ), 1) = true) AS t2 \"            \n",
    "            \"ON ST_DWithin(t1.way, t2.way, 100) = true;\" % (vid,vid))\n",
    "hsRdMap = cur.fetchall()\n",
    "tMap = cleanMap(transJson, vornoiJson)\n",
    "# House point and nearest projected point on the road\n",
    "for i in range(len(hsRdMap)):\n",
    "    house = json.loads(hsRdMap[i][0])['coordinates']\n",
    "    omk = Circle(location=house, weight=5, opacity = 0.5, color = '#00134d', radius = 2) \n",
    "    tMap.add_layer(omk)\n",
    "    \n",
    "    proj = json.loads(hsRdMap[i][1])['coordinates']\n",
    "    pmk = Circle(location=proj, weight=5, opacity = 0.5, color = '#003300', radius = 2) \n",
    "    tMap.add_layer(pmk)\n",
    "    \n",
    "    line = [house, proj]\n",
    "    pl = Polyline(locations=line, weight=2, color='red', opacity=0.8) \n",
    "    tMap.add_layer(pl) \n",
    "cur.close()\n",
    "tMap"
   ]
  },
  {
   "cell_type": "markdown",
   "metadata": {},
   "source": [
    "## Project houses only to the nearest road"
   ]
  },
  {
   "cell_type": "code",
   "execution_count": 213,
   "metadata": {
    "collapsed": false
   },
   "outputs": [],
   "source": [
    "conn = connect(False)\n",
    "# Select roads near one house\n",
    "cur = conn.cursor()\n",
    "# Create intermediate table\n",
    "cur.execute(\"CREATE TABLE IF NOT EXISTS tempHsRd (hway geometry(Point,900913), rway geometry(LineString,900913), distance float);\")\n",
    "conn.commit()   \n",
    "# clean entries\n",
    "cur.execute(\"DELETE FROM temphsrd;\")\n",
    "conn.commit() \n",
    "cur.execute(\"INSERT INTO temphsrd \"\n",
    "            \"(SELECT t1.way, t2.way, ST_Distance(t1.way, t2.way) \"\n",
    "            \"FROM \"\n",
    "            \"(SELECT way FROM vornoi_map WHERE vid = %d AND istransformer = false) AS t1 LEFT JOIN \"\n",
    "            \"(SELECT way FROM planet_osm_line WHERE highway in ('residential') \"\n",
    "            \"AND ST_DWithin(way,(SELECT way FROM vornoi WHERE vid = %d ), 1) = true) AS t2 \"            \n",
    "            \"ON ST_DWithin(t1.way, t2.way, 100) = true);\" % (vid,vid))\n",
    "conn.commit() \n",
    "\n",
    "cur.execute(\"SELECT ST_AsGeoJSON(ST_FlipCoordinates(ST_Transform(hway, 4326))), \"\n",
    "            \"ST_AsGeoJSON(ST_FlipCoordinates(ST_Transform(ST_ClosestPoint(rway, hway), 4326))) \"\n",
    "            \"FROM temphsrd \"\n",
    "            \"WHERE (hway, distance) IN \"\n",
    "            \"(SELECT hway, MIN(distance) FROM temphsrd GROUP BY hway);\")\n",
    "hsRdMap = cur.fetchall()\n",
    "\n",
    "\n",
    "# cur.execute(\"SELECT ST_AsGeoJSON(ST_FlipCoordinates(ST_Transform(t3.hway, 4326))), \"\n",
    "#             \"ST_AsGeoJSON(ST_FlipCoordinates(ST_Transform(ST_ClosestPoint(t3.rway, t3.hway), 4326))) \"\n",
    "#             \"FROM \"\n",
    "#             \"(SELECT t1.way AS hway, t2.way AS rway, ST_Distance(t1.way, t2.way) AS distance \"\n",
    "#             \"FROM \"\n",
    "#             \"(SELECT way FROM vornoi_map WHERE vid = %d AND istransformer = false LIMIT 2) AS t1 LEFT JOIN \"\n",
    "#             \"(SELECT way FROM planet_osm_line WHERE highway in ('residential') \"\n",
    "#             \"AND ST_DWithin(way,(SELECT way FROM vornoi WHERE vid = %d ), 1) = true) AS t2 \"            \n",
    "#             \"ON ST_DWithin(t1.way, t2.way, 100) = true) AS t3 LEFT JOIN \"\n",
    "#             \"(SELECT t3.hway AS hway, MIN(t3.distance) AS max_distance FROM t3 GROUP BY t3.hway) AS t4 \"\n",
    "#             \"ON t3.hway = t4.hway \"\n",
    "#             \"AND t3.distance = t4.max_distance;\" % (vid,vid))\n",
    "\n",
    "# cur.execute(\"SELECT ST_AsGeoJSON((ST_FlipCoordinates(ST_Transform(t1.way, 4326)))), \"\n",
    "#             \"ST_AsGeoJSON(ST_Collect(ST_FlipCoordinates(ST_Transform(ST_ClosestPoint(t2.way, t1.way), 4326)))), \"\n",
    "#             \"ST_Distance(t1.way, t2.way) \"\n",
    "#             \"FROM (SELECT way FROM vornoi_map WHERE vid = %d AND istransformer = false LIMIT 3) AS t1, \"\n",
    "#             \"(SELECT way FROM planet_osm_line WHERE highway in ('residential') \"\n",
    "#             \"AND ST_DWithin(way,(SELECT way FROM vornoi WHERE vid = %d ), 1) = true) AS t2 \"\n",
    "#             \"WHERE ST_DWithin(t1.way, t2.way, 100) = true GROUP BY t1.way;\" % (vid,vid))\n",
    "\n",
    "cur.close()\n"
   ]
  },
  {
   "cell_type": "code",
   "execution_count": 216,
   "metadata": {
    "collapsed": false
   },
   "outputs": [],
   "source": [
    "tMap = cleanMap(transJson, vornoiJson)\n",
    "\n",
    "for i in range(len(hsRdMap)):\n",
    "    house = json.loads(hsRdMap[i][0])['coordinates']\n",
    "    omk = Circle(location=house, weight=5, opacity = 0.5, color = '#00134d', radius = 2) \n",
    "    tMap.add_layer(omk)\n",
    "\n",
    "    proj = json.loads(hsRdMap[i][1])['coordinates']\n",
    "    pmk = Circle(location=proj, weight=5, opacity = 0.5, color = '#003300', radius = 2) \n",
    "    tMap.add_layer(pmk)\n",
    "\n",
    "    line = [house, proj]\n",
    "    pl = Polyline(locations=line, weight=2, color='red', opacity=0.8) \n",
    "    tMap.add_layer(pl)    \n",
    "tMap"
   ]
  },
  {
   "cell_type": "markdown",
   "metadata": {},
   "source": [
    "# Step3. Construct network graph"
   ]
  },
  {
   "cell_type": "markdown",
   "metadata": {},
   "source": [
    "## Preparing vertices and edges"
   ]
  },
  {
   "cell_type": "code",
   "execution_count": 5,
   "metadata": {
    "collapsed": false
   },
   "outputs": [],
   "source": [
    "cur = conn.cursor()\n",
    "# Select vornoi polygon and transformer\n",
    "cur.execute(\"SELECT oid FROM vornoi_map WHERE vid = %d and istransformer = True;\"%vid)\n",
    "tid = cur.fetchall()[0][0]\n",
    "cur.execute(\"SELECT t1.oid, t2.oid, ST_Distance(t1.way, t2.way) \"\n",
    "            \"FROM (SELECT oid, way FROM vornoi_map WHERE vid = %d) AS t1, \"\n",
    "            \"(SELECT oid, way FROM vornoi_map WHERE vid = %d and istransformer = False) AS t2 \"\n",
    "            \"WHERE t1.oid != t2.oid ;\"% (vid,vid))\n",
    "nodes = cur.fetchall()\n",
    "cur.close()"
   ]
  },
  {
   "cell_type": "code",
   "execution_count": 79,
   "metadata": {
    "collapsed": false
   },
   "outputs": [],
   "source": [
    "def saveGraph(conn, vid, edgeList, name):\n",
    "    # Store result into database\n",
    "    cur = conn.cursor()\n",
    "    # Check wheter already stored\n",
    "    cur.execute(\"SELECT ST_AsGeoJSON(ST_FlipCoordinates(ST_Transform(way, 4326)))\"\n",
    "                \"FROM graph WHERE type = '%s' AND vid = %d;\" %(name,vid))\n",
    "    lines = cur.fetchall()\n",
    "    # If not, store minimum spanning tree into database\n",
    "    if len(lines)==0:\n",
    "        print 'Storing topology of %s into db'%name\n",
    "        cur.execute(\"CREATE TABLE IF NOT EXISTS templines (way geometry(LineString,900913));\")\n",
    "        conn.commit()   \n",
    "        # clean entries\n",
    "        cur.execute(\"DELETE FROM templines;\")\n",
    "        conn.commit()   \n",
    "\n",
    "        for edge in edgeList:\n",
    "            (start, end) = edge\n",
    "            cur.execute(\"INSERT INTO templines (SELECT ST_MakeLine(t1.way, t2.way) \"\n",
    "                        \"FROM (SELECT oid, way FROM vornoi_map WHERE vid = %d) AS t1, \"\n",
    "                        \"(SELECT oid, way FROM vornoi_map WHERE vid = %d) AS t2 \"\n",
    "                        \"WHERE t1.oid = %d AND t2.oid = %d);\"% (vid, vid, start, end ))\n",
    "            conn.commit()   \n",
    "\n",
    "        cur.execute(\"INSERT INTO graph (vid, type, way) SELECT %d, '%s', ST_Collect(way) FROM templines;\"%(vid, name))\n",
    "        conn.commit()\n",
    "        cur.execute(\"SELECT ST_AsGeoJSON(ST_FlipCoordinates(ST_Transform(way, 4326)))\"\n",
    "                    \"FROM graph WHERE type = '%s' AND vid = %d;\" %(name,vid))\n",
    "        lines = cur.fetchall()\n",
    "    cur.close()\n",
    "    return lines"
   ]
  },
  {
   "cell_type": "markdown",
   "metadata": {},
   "source": [
    "## Network Simplex "
   ]
  },
  {
   "cell_type": "code",
   "execution_count": 80,
   "metadata": {
    "collapsed": false
   },
   "outputs": [
    {
     "name": "stdout",
     "output_type": "stream",
     "text": [
      "90 90\n",
      "Storing topology of NS into db\n"
     ]
    }
   ],
   "source": [
    "# Build  directed graph\n",
    "graph = []\n",
    "for ele in nodes:\n",
    "    w = int(math.floor(ele[2]))\n",
    "    graph.append(\"%d %d %d\" % (ele[0],ele[1],w))\n",
    "G_ = nx.parse_edgelist(graph, create_using = nx.DiGraph(), nodetype = int, data=(('weight',int),))\n",
    "assert G_.has_node(tid)\n",
    "\n",
    "for n in G_.nodes(data=True):\n",
    "    n[1]['demand'] = 1\n",
    "G_.add_node(tid, demand = -len(G_.nodes())+1)\n",
    "flowCost, flowDict = nx.capacity_scaling(G_)\n",
    "#flowCost, flowDict = nx.network_simplex(G_)\n",
    "NS = sorted([(u, v) for u in flowDict for v in flowDict[u] if flowDict[u][v] > 0])\n",
    "\n",
    "print approx.node_connectivity(G_), len(NS)\n",
    "lines = saveGraph(conn, vid, NS, 'NS')"
   ]
  },
  {
   "cell_type": "markdown",
   "metadata": {},
   "source": [
    "## Minimum Spanning Tree"
   ]
  },
  {
   "cell_type": "code",
   "execution_count": 9,
   "metadata": {
    "collapsed": false
   },
   "outputs": [
    {
     "name": "stdout",
     "output_type": "stream",
     "text": [
      "90 91\n"
     ]
    }
   ],
   "source": [
    "graph = []\n",
    "for ele in nodes:\n",
    "    graph.append(\"%d %d %f\" % ele)\n",
    "G = nx.parse_edgelist(graph, nodetype = int, data=(('weight',float),))\n",
    "\n",
    "MST = nx.minimum_spanning_tree(G)\n",
    "print approx.node_connectivity(G), len(MST.nodes())\n",
    "#lines = saveGraph(conn, vid, MST.edges(), 'MST')"
   ]
  },
  {
   "cell_type": "markdown",
   "metadata": {},
   "source": [
    "## Minimum Spanning Arborescence "
   ]
  },
  {
   "cell_type": "code",
   "execution_count": 84,
   "metadata": {
    "collapsed": false
   },
   "outputs": [
    {
     "name": "stdout",
     "output_type": "stream",
     "text": [
      "90 91\n",
      "Storing topology of MSA into db\n"
     ]
    }
   ],
   "source": [
    "graph = []\n",
    "for ele in nodes:\n",
    "    graph.append(\"%d %d %f\" % ele)\n",
    "G_ = nx.parse_edgelist(graph, create_using = nx.DiGraph(), nodetype = int, data=(('weight',float),))\n",
    "assert G_.has_node(tid)\n",
    "\n",
    "MSA = nx.minimum_spanning_arborescence(G_)\n",
    "print approx.node_connectivity(G_), len(MSA.nodes())\n",
    "\n",
    "lines = saveGraph(conn, vid, MSA.edges(), 'MSA')"
   ]
  },
  {
   "cell_type": "markdown",
   "metadata": {},
   "source": [
    "## Minimum Branching "
   ]
  },
  {
   "cell_type": "code",
   "execution_count": 89,
   "metadata": {
    "collapsed": false,
    "scrolled": true
   },
   "outputs": [],
   "source": [
    "# Not applicable\n",
    "# graph = []\n",
    "# for ele in nodes:\n",
    "#     graph.append(\"%d %d %f\" % ele)\n",
    "# G_ = nx.parse_edgelist(graph, create_using = nx.DiGraph(), nodetype = int, data=(('weight',float),))\n",
    "# assert G_.has_node(tid)\n",
    "\n",
    "# MB = nx.minimum_branching(G_)\n",
    "# print approx.node_connectivity(G_),len(MB.nodes())\n",
    "# lines = saveGraph(conn, vid, MB.edges(), 'MB')\n",
    "# print len(res[0][0])\n"
   ]
  },
  {
   "cell_type": "markdown",
   "metadata": {},
   "source": [
    "# Step4. Display graph on map"
   ]
  },
  {
   "cell_type": "code",
   "execution_count": 87,
   "metadata": {
    "collapsed": false
   },
   "outputs": [],
   "source": [
    "tmpJson = json.loads(lines[0][0])\n",
    "tmpMap = cleanMap(transJson, vornoiJson)\n",
    "for l in tmpJson['coordinates']:\n",
    "    pl = Polyline(locations=l, weight=2, color='#2929a3', opacity=0.5)\n",
    "    tmpMap.add_layer(pl)\n",
    "tmpMap"
   ]
  },
  {
   "cell_type": "raw",
   "metadata": {},
   "source": [
    "# Sql to create table to store graph\n",
    "\n",
    "CREATE TABLE graph (\n",
    "    gid int NOT NULL,\n",
    "    vid bigint,\n",
    "    type VARCHAR(30),\n",
    "    way geometry(MultiLineString,900913),\n",
    ");\n",
    "\n",
    "CREATE SEQUENCE graph_id_seq\n",
    "    START WITH 1\n",
    "    INCREMENT BY 1\n",
    "    NO MINVALUE\n",
    "    NO MAXVALUE\n",
    "    CACHE 1;\n",
    "\n",
    "ALTER SEQUENCE graph_id_seq OWNED BY graph.gid;\n",
    "ALTER TABLE ONLY graph ALTER COLUMN gid SET DEFAULT nextval('graph_id_seq'::regclass);"
   ]
  }
 ],
 "metadata": {
  "anaconda-cloud": {},
  "kernelspec": {
   "display_name": "Python [Root]",
   "language": "python",
   "name": "Python [Root]"
  },
  "language_info": {
   "codemirror_mode": {
    "name": "ipython",
    "version": 2
   },
   "file_extension": ".py",
   "mimetype": "text/x-python",
   "name": "python",
   "nbconvert_exporter": "python",
   "pygments_lexer": "ipython2",
   "version": "2.7.12"
  },
  "widgets": {
   "state": {
    "046504fb8a4e476383a6496c16bf3798": {
     "views": [
      {
       "cell_index": 18
      }
     ]
    },
    "168fa2d860ce4dd499d1b17637932c60": {
     "views": [
      {
       "cell_index": 20
      }
     ]
    },
    "6dac141f1136497e96e08a1729413ce1": {
     "views": [
      {
       "cell_index": 16
      }
     ]
    },
    "e63a18dc9c544883b4afd5bc52979f95": {
     "views": [
      {
       "cell_index": 10
      }
     ]
    }
   },
   "version": "1.2.0"
  }
 },
 "nbformat": 4,
 "nbformat_minor": 0
}
