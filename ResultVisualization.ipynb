{
 "cells": [
  {
   "cell_type": "code",
   "execution_count": 1,
   "metadata": {
    "collapsed": true
   },
   "outputs": [],
   "source": [
    "import psycopg2\n",
    "import json\n",
    "import ipyleaflet as L\n",
    "import networkx as nx\n",
    "from ipyleaflet import (\n",
    "    Map,\n",
    "    Marker,\n",
    "    TileLayer, ImageOverlay,\n",
    "    Polyline, Polygon, Rectangle, Circle, CircleMarker,\n",
    "    GeoJSON,\n",
    "    DrawControl\n",
    ")"
   ]
  },
  {
   "cell_type": "markdown",
   "metadata": {},
   "source": [
    "## Database connection"
   ]
  },
  {
   "cell_type": "code",
   "execution_count": 2,
   "metadata": {
    "collapsed": true
   },
   "outputs": [],
   "source": [
    "def connect(broken):# Set connection to gis db\n",
    "    if broken:\n",
    "        conn.close()\n",
    "    try:\n",
    "        conn = psycopg2.connect(\"dbname=gis user=jennyzhou\")\n",
    "    except:\n",
    "        print 'Fail to connect to Postgres Server'\n",
    "    return conn\n",
    "        \n",
    "conn = connect(False)"
   ]
  },
  {
   "cell_type": "markdown",
   "metadata": {},
   "source": [
    "## Load Result from database"
   ]
  },
  {
   "cell_type": "code",
   "execution_count": 3,
   "metadata": {
    "collapsed": false
   },
   "outputs": [],
   "source": [
    "cur = conn.cursor()\n",
    "# Select one polygon area\n",
    "vid = 38\n",
    "types = ['MSA','MST','NS']\n",
    "graphJson = {}\n",
    "# Select vornoi polygon and transformer\n",
    "cur.execute(\"SELECT ST_AsGeoJSON((ST_FlipCoordinates(ST_Transform(way, 4326)))), \"\n",
    "            \"ST_AsGeoJSON((ST_FlipCoordinates(ST_Transform(tway, 4326)))) FROM vornoi WHERE vid = %d ;\" % vid)\n",
    "data = cur.fetchall()\n",
    "vornoiJson = json.loads(data[0][0])\n",
    "transJson = json.loads(data[0][1])\n",
    "\n",
    "# Select all the houses\n",
    "cur.execute(\"SELECT ST_AsGeoJSON(ST_Collect(ST_FlipCoordinates(ST_Transform(way, 4326)))) \"\n",
    "            \"FROM vornoi_map where vid = %d and istransformer = false ;\" % vid)\n",
    "houses = cur.fetchall()\n",
    "houseJson = json.loads(houses[0][0])\n",
    "\n",
    "for name in types:\n",
    "    # Get result of Minimun Spanning Tree\n",
    "    cur.execute(\"SELECT ST_AsGeoJSON(ST_FlipCoordinates(ST_Transform(way, 4326)))\"\n",
    "                \"FROM graph WHERE type = '%s' AND vid = %d;\" %(name,vid))\n",
    "    lines = cur.fetchall()\n",
    "    graphJson[name] = json.loads(lines[0][0])\n",
    "cur.close()"
   ]
  },
  {
   "cell_type": "markdown",
   "metadata": {},
   "source": [
    "## Visualisation on map"
   ]
  },
  {
   "cell_type": "code",
   "execution_count": 4,
   "metadata": {
    "collapsed": true
   },
   "outputs": [],
   "source": [
    "# Modulize retrival of map for different visualization simultaneously\n",
    "def getMap(center, boundary):\n",
    "    # Mark transformer\n",
    "    tMarker =  Marker(location=center['coordinates'])\n",
    "    # Mark polygon\n",
    "    tPoly = Polygon(locations=boundary['coordinates'], weight=2,\n",
    "                color='#a3c2c2', opacity=0.8, fill_opacity=0.2,\n",
    "                fill_color='#ccffcc') \n",
    "\n",
    "    # Init Map\n",
    "    tMap = Map(default_tiles=TileLayer(opacity=1.0),center=center['coordinates'] ,zoom=17)\n",
    "    tMap.add_layer(tMarker)\n",
    "    tMap.add_layer(tPoly)\n",
    "    return tMap\n",
    "\n",
    "def markHouse(tMap, data):\n",
    "    markers = []\n",
    "    # Mark houses\n",
    "    for hp in data['coordinates']:\n",
    "        c = Circle(location= hp, weight=5, opacity = 0.5, color = 'red', radius = 2) \n",
    "        markers.append(c)\n",
    "        tMap.add_layer(c)\n",
    "    return markers\n",
    "\n",
    "def markGraph(tMap, data):\n",
    "    markers = []\n",
    "    for l in data['coordinates']:\n",
    "        pl = Polyline(locations=l, weight=2, color='#2929a3', opacity=0.5)\n",
    "        markers.append(pl)\n",
    "        tMap.add_layer(pl)\n",
    "    return markers\n",
    "    \n",
    "def cleanMarker(tMap, markers):\n",
    "    if len(markers) > 0:\n",
    "        for mk in markers:\n",
    "            tMap.remove_layer(mk)"
   ]
  },
  {
   "cell_type": "code",
   "execution_count": 5,
   "metadata": {
    "collapsed": false
   },
   "outputs": [],
   "source": [
    "# Test\n",
    "tMap = getMap(transJson, vornoiJson)\n",
    "hMarkers = markHouse(tMap, houseJson)\n",
    "tMap"
   ]
  },
  {
   "cell_type": "code",
   "execution_count": 20,
   "metadata": {
    "collapsed": false
   },
   "outputs": [],
   "source": [
    "# Remove house markers\n",
    "cleanMarker(tMap, hMarkers)"
   ]
  },
  {
   "cell_type": "markdown",
   "metadata": {},
   "source": [
    "## Minimum Spanning Tree"
   ]
  },
  {
   "cell_type": "code",
   "execution_count": 6,
   "metadata": {
    "collapsed": false
   },
   "outputs": [],
   "source": [
    "mstMap = getMap(transJson, vornoiJson)\n",
    "#hMarkers = markHouse(tMap, houseJson)\n",
    "mstMarkers = markGraph(mstMap, graphJson['MST'])\n",
    "mstMap"
   ]
  },
  {
   "cell_type": "code",
   "execution_count": 9,
   "metadata": {
    "collapsed": true
   },
   "outputs": [],
   "source": [
    "cleanMarker(mstMap, mstMarkers)"
   ]
  },
  {
   "cell_type": "markdown",
   "metadata": {},
   "source": [
    "## Minimum Spanning Arborescence"
   ]
  },
  {
   "cell_type": "code",
   "execution_count": 6,
   "metadata": {
    "collapsed": true
   },
   "outputs": [],
   "source": [
    "msaMap = getMap(transJson, vornoiJson)\n",
    "msaMarkers = markGraph(msaMap, graphJson['MSA'])\n",
    "msaMap"
   ]
  },
  {
   "cell_type": "code",
   "execution_count": null,
   "metadata": {
    "collapsed": true
   },
   "outputs": [],
   "source": [
    "cleanMarker(msaMap, msaMarkers)"
   ]
  },
  {
   "cell_type": "markdown",
   "metadata": {},
   "source": [
    "## Network Simplex"
   ]
  },
  {
   "cell_type": "code",
   "execution_count": 7,
   "metadata": {
    "collapsed": false
   },
   "outputs": [],
   "source": [
    "nsMap = getMap(transJson, vornoiJson)\n",
    "nsMarkers = markGraph(nsMap, graphJson['NS'])\n",
    "nsMap"
   ]
  },
  {
   "cell_type": "code",
   "execution_count": null,
   "metadata": {
    "collapsed": true
   },
   "outputs": [],
   "source": [
    "cleanMarker(nsMap, nsMarkers)"
   ]
  }
 ],
 "metadata": {
  "anaconda-cloud": {},
  "kernelspec": {
   "display_name": "Python [Root]",
   "language": "python",
   "name": "Python [Root]"
  },
  "language_info": {
   "codemirror_mode": {
    "name": "ipython",
    "version": 2
   },
   "file_extension": ".py",
   "mimetype": "text/x-python",
   "name": "python",
   "nbconvert_exporter": "python",
   "pygments_lexer": "ipython2",
   "version": "2.7.12"
  },
  "widgets": {
   "state": {
    "20eb6f5c44a046f585a7f3f45a57a26b": {
     "views": [
      {
       "cell_index": 10
      }
     ]
    },
    "c33ee1cf766a49919f237e676c56f468": {
     "views": [
      {
       "cell_index": 7
      }
     ]
    }
   },
   "version": "1.2.0"
  }
 },
 "nbformat": 4,
 "nbformat_minor": 0
}
