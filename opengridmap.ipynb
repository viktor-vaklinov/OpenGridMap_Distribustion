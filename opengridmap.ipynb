{
 "cells": [
  {
   "cell_type": "markdown",
   "metadata": {},
   "source": [
    "# OpenGridMap Notebook"
   ]
  },
  {
   "cell_type": "raw",
   "metadata": {},
   "source": [
    "Before executing any code in this Notebook, you should \n",
    "1. make sure that you have installed necessary tools \n",
    "2. prepare a database gis in your local PostGis server. \n",
    "Please look at DataInstallation/install.txt for more details."
   ]
  },
  {
   "cell_type": "markdown",
   "metadata": {},
   "source": [
    "# Step1. Preparation"
   ]
  },
  {
   "cell_type": "markdown",
   "metadata": {},
   "source": [
    "## Import necessary modules"
   ]
  },
  {
   "cell_type": "code",
   "execution_count": 1,
   "metadata": {
    "collapsed": true
   },
   "outputs": [],
   "source": [
    "import psycopg2\n",
    "import json\n",
    "import ipyleaflet as L\n",
    "import networkx as nx\n",
    "from ipyleaflet import (\n",
    "    Map,\n",
    "    Marker,\n",
    "    TileLayer, ImageOverlay,\n",
    "    Polyline, Polygon, Rectangle, Circle, CircleMarker,\n",
    "    GeoJSON,\n",
    "    DrawControl\n",
    ")"
   ]
  },
  {
   "cell_type": "markdown",
   "metadata": {},
   "source": [
    "## Database connection"
   ]
  },
  {
   "cell_type": "code",
   "execution_count": 35,
   "metadata": {
    "collapsed": false
   },
   "outputs": [],
   "source": [
    "# Set connection to gis db\n",
    "try:\n",
    "    conn = psycopg2.connect(\"dbname=gis user=jennyzhou\")\n",
    "except:\n",
    "    print 'Fail to connect to Postgres Server'"
   ]
  },
  {
   "cell_type": "markdown",
   "metadata": {},
   "source": [
    "# Step2. Data selection"
   ]
  },
  {
   "cell_type": "markdown",
   "metadata": {},
   "source": [
    "## Select area of Garching on map"
   ]
  },
  {
   "cell_type": "code",
   "execution_count": 36,
   "metadata": {
    "collapsed": false
   },
   "outputs": [],
   "source": [
    "# Select polygon of Garching\n",
    "cur = conn.cursor() \n",
    "cur.execute(\"SELECT ST_AsGeoJSON(ST_FlipCoordinates(ST_Transform(ST_Centroid(way), 4326))), ST_AsGeoJSON(ST_FlipCoordinates(ST_Transform(way, 4326))) FROM planet_osm_polygon WHERE osm_id = -30971; \")\n",
    "garching = cur.fetchall()\n",
    "cur.close()"
   ]
  },
  {
   "cell_type": "markdown",
   "metadata": {},
   "source": [
    "## Select transformer entries"
   ]
  },
  {
   "cell_type": "code",
   "execution_count": 37,
   "metadata": {
    "collapsed": false
   },
   "outputs": [],
   "source": [
    "cur = conn.cursor()\n",
    "# Select all the transformers inside Garching\n",
    "cur.execute(\"SELECT ST_AsGeoJSON(ST_FlipCoordinates(ST_Transform(way, 4326))) FROM student_transformers;\")\n",
    "transformers = cur.fetchall()\n",
    "cur.close()\n",
    "\n",
    "#cur.execute(\"CREATE TABLE transformer_geo (id serial PRIMARY KEY, osm_id bigint, geo_json text);\")\n",
    "#cur.execute(\"INSERT INTO transformer_geo (osm_id, geo_json) SELECT osm_id, ST_AsGeoJSON(ST_Transform(way, 4326)) FROM planet_osm_point WHERE power != ''ORDER BY name;\")"
   ]
  },
  {
   "cell_type": "markdown",
   "metadata": {},
   "source": [
    "## Select house entries"
   ]
  },
  {
   "cell_type": "code",
   "execution_count": 38,
   "metadata": {
    "collapsed": false
   },
   "outputs": [],
   "source": [
    "cur = conn.cursor()\n",
    "# Too Slow\n",
    "cur.execute(\"SELECT ST_AsGeoJson(ST_FlipCoordinates(ST_Transform(ST_Centroid(way), 4326))) FROM planet_osm_polygon WHERE ST_Within(way,(SELECT way FROM planet_osm_polygon WHERE osm_id = -30971)) AND building != '' LIMIT 200; \")\n",
    "houses = cur.fetchall()\n",
    "conn.close()"
   ]
  },
  {
   "cell_type": "markdown",
   "metadata": {},
   "source": [
    "# Step3. Data visualisation with ipyleaflet"
   ]
  },
  {
   "cell_type": "markdown",
   "metadata": {},
   "source": [
    "## Display area of Garching"
   ]
  },
  {
   "cell_type": "code",
   "execution_count": 41,
   "metadata": {
    "collapsed": false
   },
   "outputs": [],
   "source": [
    "for row in garching:\n",
    "    garchingCentJson = json.loads(row[0])\n",
    "    garchingPolJson = json.loads(row[1])\n",
    "    #print garchingPolJson\n",
    "    \n",
    "# Initialise map with center of Garching \n",
    "map = Map(default_tiles=TileLayer(opacity=1.0),center= garchingCentJson['coordinates'],zoom =16)\n",
    "\n",
    "# Show boundary of Garching\n",
    "garchingOuter = Polygon(locations=garchingPolJson['coordinates'], weight=4,\n",
    "            color='#003d99', opacity=0.8, fill_opacity=0.5,\n",
    "            fill_color='#ccffcc')\n",
    "#L.GeoJSON(data=garchingPolJson)\n",
    "map += garchingOuter\n",
    "\n",
    "# Display map\n",
    "map"
   ]
  },
  {
   "cell_type": "markdown",
   "metadata": {},
   "source": [
    "## Mark houses and transformers"
   ]
  },
  {
   "cell_type": "code",
   "execution_count": 42,
   "metadata": {
    "collapsed": false
   },
   "outputs": [],
   "source": [
    "# Mark transformers\n",
    "tmarkers = []\n",
    "for row in transformers:  \n",
    "    #print \" \", row[0]\n",
    "    mk = Marker(location=json.loads(row[0])['coordinates'])\n",
    "    tmarkers.append(mk)\n",
    "    map.add_layer(mk)\n",
    "\n",
    "# Mark houses\n",
    "hmarkers = []\n",
    "for row in houses:\n",
    "    c = Circle(location=json.loads(row[0])['coordinates'], weight=5, opacity = 0.5, color = 'red', radius = 2) \n",
    "    hmarkers.append(c)\n",
    "    map.add_layer(c) \n"
   ]
  },
  {
   "cell_type": "code",
   "execution_count": 92,
   "metadata": {
    "collapsed": true
   },
   "outputs": [],
   "source": [
    "# Clean Markers\n",
    "for mk in tmarkers:\n",
    "    map.remove_layer(mk)\n",
    "\n",
    "for mk in hmarkers:\n",
    "    map.remove_layer(mk)"
   ]
  },
  {
   "cell_type": "markdown",
   "metadata": {},
   "source": [
    "# Step4. Find best graph"
   ]
  },
  {
   "cell_type": "markdown",
   "metadata": {},
   "source": [
    "## Build graph with data set"
   ]
  },
  {
   "cell_type": "code",
   "execution_count": 4,
   "metadata": {
    "collapsed": false
   },
   "outputs": [],
   "source": [
    "# To be implemented\n",
    "def buildGraph(graph):\n",
    "    # graph [\"1 2 10.1\", \"2 3 5.3\"]\n",
    "    G=nx.parse_edgelist(graph, nodetype = int, data=(('weight',float),))\n",
    "    return G\n"
   ]
  },
  {
   "cell_type": "code",
   "execution_count": 5,
   "metadata": {
    "collapsed": false
   },
   "outputs": [
    {
     "name": "stdout",
     "output_type": "stream",
     "text": [
      "[1, 2, 3]\n",
      "[(1, 2, {'weight': 10.1}), (2, 3, {'weight': 5.3})]\n"
     ]
    }
   ],
   "source": [
    "# Testing Code\n",
    "graph = [\"1 2 10.1\", \"2 3 5.3\"]\n",
    "G = buildGraph(graph)\n",
    "print G.nodes()\n",
    "print G.edges(data = True)"
   ]
  },
  {
   "cell_type": "markdown",
   "metadata": {},
   "source": [
    "## Run network algorithm"
   ]
  },
  {
   "cell_type": "code",
   "execution_count": null,
   "metadata": {
    "collapsed": true
   },
   "outputs": [],
   "source": [
    "# To be implemented"
   ]
  },
  {
   "cell_type": "markdown",
   "metadata": {},
   "source": [
    "# Step5. Display graph on map"
   ]
  },
  {
   "cell_type": "code",
   "execution_count": null,
   "metadata": {
    "collapsed": true
   },
   "outputs": [],
   "source": []
  },
  {
   "cell_type": "markdown",
   "metadata": {},
   "source": [
    "# ================= Testing section [IGNORE]====================\n"
   ]
  },
  {
   "cell_type": "markdown",
   "metadata": {},
   "source": [
    "## Map initialisation"
   ]
  },
  {
   "cell_type": "code",
   "execution_count": 10,
   "metadata": {
    "collapsed": true
   },
   "outputs": [],
   "source": [
    "ingolstadt = [48.7630164995764,11.4250395050931] \n",
    "munich = [48.1371078976613,11.5753821798641]\n",
    "garching =  [11.6032985849595,48.2465396933038]\n",
    "#ismaning = []\n",
    "\n",
    "map = Map(default_tiles=TileLayer(opacity=1.0),center=munich,zoom =8)\n",
    "map"
   ]
  },
  {
   "cell_type": "markdown",
   "metadata": {},
   "source": [
    "## Play around with markers"
   ]
  },
  {
   "cell_type": "code",
   "execution_count": 11,
   "metadata": {
    "collapsed": false
   },
   "outputs": [],
   "source": [
    "# Normal marker\n",
    "munMK = Marker(location=munich)\n",
    "ingMK = Marker(location=ingolstadt)\n",
    "map+=munMK\n",
    "map+=ingMK\n"
   ]
  },
  {
   "cell_type": "code",
   "execution_count": 12,
   "metadata": {
    "collapsed": false
   },
   "outputs": [],
   "source": [
    "# Circle \n",
    "c = Circle(location=munich)\n",
    "map.add_layer(c)\n",
    "#c.interact(weight=(0,10,1), opacity=(0.0,1.0,0.01))"
   ]
  },
  {
   "cell_type": "code",
   "execution_count": 38,
   "metadata": {
    "collapsed": false
   },
   "outputs": [],
   "source": [
    "map.remove_layer(c)"
   ]
  },
  {
   "cell_type": "code",
   "execution_count": 13,
   "metadata": {
    "collapsed": false
   },
   "outputs": [],
   "source": [
    "# Circle Marker\n",
    "cm = CircleMarker(location=ingolstadt, radius=30, weight=2,\n",
    "                  color='#F00', opacity=1.0, fill_opacity=1.0,\n",
    "                  fill_color='#0F0')\n",
    "map.add_layer(cm)"
   ]
  },
  {
   "cell_type": "code",
   "execution_count": 41,
   "metadata": {
    "collapsed": true
   },
   "outputs": [],
   "source": [
    "map.remove_layer(cm)"
   ]
  },
  {
   "cell_type": "markdown",
   "metadata": {},
   "source": [
    "## Using GeoJSON "
   ]
  },
  {
   "cell_type": "code",
   "execution_count": 15,
   "metadata": {
    "collapsed": false
   },
   "outputs": [],
   "source": [
    "data = {\"type\":\"Point\",\"coordinates\": ingolstadt}\n",
    "layer = ll.GeoJSON(data=data)\n",
    "map.add_layer(layer)"
   ]
  },
  {
   "cell_type": "code",
   "execution_count": 16,
   "metadata": {
    "collapsed": false
   },
   "outputs": [
    {
     "data": {
      "text/plain": [
       "[48.7630164995764, 11.4250395050931]"
      ]
     },
     "execution_count": 16,
     "metadata": {},
     "output_type": "execute_result"
    }
   ],
   "source": [
    "layer.data['coordinates']"
   ]
  },
  {
   "cell_type": "code",
   "execution_count": null,
   "metadata": {
    "collapsed": true
   },
   "outputs": [],
   "source": []
  }
 ],
 "metadata": {
  "anaconda-cloud": {},
  "kernelspec": {
   "display_name": "Python [Root]",
   "language": "python",
   "name": "Python [Root]"
  },
  "language_info": {
   "codemirror_mode": {
    "name": "ipython",
    "version": 2
   },
   "file_extension": ".py",
   "mimetype": "text/x-python",
   "name": "python",
   "nbconvert_exporter": "python",
   "pygments_lexer": "ipython2",
   "version": "2.7.12"
  }
 },
 "nbformat": 4,
 "nbformat_minor": 0
}
