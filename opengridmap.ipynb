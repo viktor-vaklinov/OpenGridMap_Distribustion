{
 "cells": [
  {
   "cell_type": "markdown",
   "metadata": {},
   "source": [
    "# OpenGridMap Notebook"
   ]
  },
  {
   "cell_type": "raw",
   "metadata": {},
   "source": [
    "Before executing any code in this Notebook, you should \n",
    "1. make sure that you have installed necessary tools \n",
    "2. prepare a database gis in your local PostGis server. \n",
    "Please look at DataInstallation/install.txt for more details."
   ]
  },
  {
   "cell_type": "markdown",
   "metadata": {},
   "source": [
    "# Step1. Preparation"
   ]
  },
  {
   "cell_type": "markdown",
   "metadata": {},
   "source": [
    "## Import necessary modules"
   ]
  },
  {
   "cell_type": "code",
   "execution_count": 164,
   "metadata": {
    "collapsed": true
   },
   "outputs": [],
   "source": [
    "import psycopg2\n",
    "import json\n",
    "import ipyleaflet as L\n",
    "import networkx as nx\n",
    "from ipyleaflet import (\n",
    "    Map,\n",
    "    Marker,\n",
    "    TileLayer, ImageOverlay,\n",
    "    Polyline, Polygon, Rectangle, Circle, CircleMarker,\n",
    "    GeoJSON,\n",
    "    DrawControl\n",
    ")"
   ]
  },
  {
   "cell_type": "markdown",
   "metadata": {},
   "source": [
    "## Database connection"
   ]
  },
  {
   "cell_type": "code",
   "execution_count": 199,
   "metadata": {
    "collapsed": false
   },
   "outputs": [],
   "source": [
    "conn.close()\n",
    "# Set connection to gis db\n",
    "try:\n",
    "    conn = psycopg2.connect(\"dbname=gis user=jennyzhou\")\n",
    "except:\n",
    "    print 'Fail to connect to Postgres Server'"
   ]
  },
  {
   "cell_type": "markdown",
   "metadata": {},
   "source": [
    "# Step2. Data selection"
   ]
  },
  {
   "cell_type": "markdown",
   "metadata": {},
   "source": [
    "## Select area of Garching on map"
   ]
  },
  {
   "cell_type": "code",
   "execution_count": 166,
   "metadata": {
    "collapsed": false
   },
   "outputs": [],
   "source": [
    "# Select polygon of Garching\n",
    "cur = conn.cursor() \n",
    "cur.execute(\"SELECT ST_AsGeoJSON(ST_FlipCoordinates(ST_Transform(ST_Centroid(way), 4326))), ST_AsGeoJSON(ST_FlipCoordinates(ST_Transform(way, 4326))) FROM planet_osm_polygon WHERE osm_id = -30971; \")\n",
    "garching = cur.fetchall()\n",
    "cur.close()\n",
    "\n",
    "garchingCentJson = json.loads(garching[0][0])\n",
    "garchingPolJson = json.loads(garching[0][1])\n",
    "#coor = json.loads(garching[0][1])['coordinates'][0]"
   ]
  },
  {
   "cell_type": "markdown",
   "metadata": {},
   "source": [
    "## Select transformer entries"
   ]
  },
  {
   "cell_type": "code",
   "execution_count": 167,
   "metadata": {
    "collapsed": false
   },
   "outputs": [],
   "source": [
    "cur = conn.cursor()\n",
    "# Select all the transformers inside Garching\n",
    "cur.execute(\"SELECT ST_AsGeoJSON(ST_Collect(ST_FlipCoordinates(ST_Transform(way, 4326)))) FROM student_transformers;\")\n",
    "transformers = cur.fetchall()\n",
    "cur.close()\n",
    "transJson = json.loads(transformers[0][0])\n",
    "\n",
    "#cur.execute(\"CREATE TABLE transformer_geo (id serial PRIMARY KEY, osm_id bigint, geo_json text);\")\n",
    "#cur.execute(\"INSERT INTO transformer_geo (osm_id, geo_json) SELECT osm_id, ST_AsGeoJSON(ST_Transform(way, 4326)) FROM planet_osm_point WHERE power != ''ORDER BY name;\")"
   ]
  },
  {
   "cell_type": "markdown",
   "metadata": {},
   "source": [
    "## Voronoi segmentation within Garching"
   ]
  },
  {
   "cell_type": "code",
   "execution_count": 212,
   "metadata": {
    "collapsed": false
   },
   "outputs": [],
   "source": [
    "cur = conn.cursor()\n",
    "# Get voronoi diagram\n",
    "cur.execute(\"SELECT ST_AsGeoJSON(ST_VoronoiPolygons(ST_Collect(ST_FlipCoordinates(ST_Transform(way, 4326))))) FROM student_transformers;\")\n",
    "voronoi = cur.fetchall()\n",
    "voronoiJson = json.loads(voronoi[0][0])"
   ]
  },
  {
   "cell_type": "markdown",
   "metadata": {},
   "source": [
    "## Select house entries"
   ]
  },
  {
   "cell_type": "code",
   "execution_count": 169,
   "metadata": {
    "collapsed": false
   },
   "outputs": [],
   "source": [
    "cur = conn.cursor()\n",
    "# Too Slow\n",
    "cur.execute(\"SELECT ST_AsGeoJson(ST_FlipCoordinates(ST_Transform(ST_Centroid(way), 4326))) FROM planet_osm_polygon WHERE ST_Within(way,(SELECT way FROM planet_osm_polygon WHERE osm_id = -30971)) AND building != '' LIMIT 10; \")\n",
    "houses = cur.fetchall()\n",
    "cur.close()"
   ]
  },
  {
   "cell_type": "markdown",
   "metadata": {},
   "source": [
    "# Step3. Data visualisation with ipyleaflet"
   ]
  },
  {
   "cell_type": "markdown",
   "metadata": {},
   "source": [
    "## 3.1 General display with all data"
   ]
  },
  {
   "cell_type": "code",
   "execution_count": 213,
   "metadata": {
    "collapsed": true
   },
   "outputs": [],
   "source": [
    "# Initial map container with Garching as center\n",
    "map = Map(default_tiles=TileLayer(opacity=1.0),center= garchingCentJson['coordinates'],zoom =13)\n",
    "map"
   ]
  },
  {
   "cell_type": "markdown",
   "metadata": {},
   "source": [
    "### Mark boundary of Garching"
   ]
  },
  {
   "cell_type": "code",
   "execution_count": 214,
   "metadata": {
    "collapsed": false
   },
   "outputs": [],
   "source": [
    "# Show boundary of Garching\n",
    "garchingOuter = Polygon(locations=garchingPolJson['coordinates'], weight=4,\n",
    "            color='#003d99', opacity=0.8, fill_opacity=0.0,\n",
    "            fill_color='#ccffcc')\n",
    "map += garchingOuter"
   ]
  },
  {
   "cell_type": "markdown",
   "metadata": {},
   "source": [
    "### Voronoi Diagram"
   ]
  },
  {
   "cell_type": "code",
   "execution_count": 215,
   "metadata": {
    "collapsed": false
   },
   "outputs": [],
   "source": [
    "for poly in voronoiJson['geometries']:\n",
    "    pg = Polygon(locations=poly['coordinates'], weight=2,\n",
    "            color='#a3c2c2', opacity=0.8, fill_opacity=0.2,\n",
    "            fill_color='#ccffcc') \n",
    "    map.add_layer(pg)"
   ]
  },
  {
   "cell_type": "markdown",
   "metadata": {},
   "source": [
    "### Mark transformers"
   ]
  },
  {
   "cell_type": "code",
   "execution_count": 216,
   "metadata": {
    "collapsed": false
   },
   "outputs": [],
   "source": [
    "# Mark transformers\n",
    "tmarkers = []\n",
    "for tp in transJson['coordinates']:  \n",
    "    mk = Marker(location=tp)\n",
    "    tmarkers.append(mk)\n",
    "    map.add_layer(mk)"
   ]
  },
  {
   "cell_type": "code",
   "execution_count": 175,
   "metadata": {
    "collapsed": true
   },
   "outputs": [],
   "source": [
    "# Clean Markers\n",
    "for mk in tmarkers:\n",
    "    map.remove_layer(mk)"
   ]
  },
  {
   "cell_type": "markdown",
   "metadata": {},
   "source": [
    "## 3.2 Testing within one voronoi polygon"
   ]
  },
  {
   "cell_type": "code",
   "execution_count": 217,
   "metadata": {
    "collapsed": true
   },
   "outputs": [],
   "source": [
    "# Fix area -> good choice: 38 (or 37) \n",
    "tArea = voronoiJson['geometries'][38]"
   ]
  },
  {
   "cell_type": "code",
   "execution_count": 237,
   "metadata": {
    "collapsed": false
   },
   "outputs": [],
   "source": [
    "# Find corresponding transformers\n",
    "tGeoJson = json.dumps(tArea)\n",
    "cur = conn.cursor()\n",
    "cur.execute(\"SELECT ST_AsGeoJSON(ST_FlipCoordinates(ST_Transform(way, 4326))) FROM student_transformers WHERE ST_Within(ST_FlipCoordinates(ST_Transform(way, 4326)),ST_SetSRID(ST_GeomFromGeoJSON(\\'%s\\'),4326));\" % tGeoJson)\n",
    "tTrans = cur.fetchall()\n",
    "\n",
    "# Find corresponding houses\n",
    "cur.execute(\"SELECT ST_AsGeoJson(ST_Collect(ST_FlipCoordinates(ST_Transform(ST_Centroid(way), 4326)))) FROM planet_osm_polygon WHERE ST_Within(ST_FlipCoordinates(ST_Transform(ST_Centroid(way), 4326)),ST_SetSRID(ST_GeomFromGeoJSON(\\'%s\\'),4326)) AND building != '';\" % tGeoJson)\n",
    "houses = cur.fetchall()\n",
    "cur.close()\n",
    "tTransJson = json.loads(tTrans[0][0])\n",
    "tHouseJson = json.loads(houses[0][0])\n"
   ]
  },
  {
   "cell_type": "code",
   "execution_count": 176,
   "metadata": {
    "collapsed": true
   },
   "outputs": [],
   "source": [
    "# Mark houses\n",
    "hmarkers = []\n",
    "for row in houses:\n",
    "    c = Circle(location=json.loads(row[0])['coordinates'], weight=5, opacity = 0.5, color = 'red', radius = 2) \n",
    "    hmarkers.append(c)\n",
    "    map.add_layer(c) "
   ]
  },
  {
   "cell_type": "code",
   "execution_count": 222,
   "metadata": {
    "collapsed": false
   },
   "outputs": [],
   "source": [
    "# Mark transformer\n",
    "tCenter = tTransJson['coordinates']\n",
    "tMarker =  Marker(location=tCenter)\n",
    "\n",
    "# Mark polygon\n",
    "tPoly = Polygon(locations=tArea['coordinates'], weight=2,\n",
    "            color='#a3c2c2', opacity=0.8, fill_opacity=0.2,\n",
    "            fill_color='#ccffcc') \n",
    "\n",
    "# Init Map\n",
    "tMap = Map(default_tiles=TileLayer(opacity=1.0),center=tCenter ,zoom=16)\n",
    "tMap.add_layer(tMarker)\n",
    "tMap.add_layer(tPoly)\n",
    "tMap"
   ]
  },
  {
   "cell_type": "code",
   "execution_count": 246,
   "metadata": {
    "collapsed": false
   },
   "outputs": [],
   "source": [
    "# Mark houses\n",
    "hmarkers = []\n",
    "for hp in tHouseJson['coordinates']:\n",
    "    c = Circle(location= hp, weight=5, opacity = 0.5, color = 'red', radius = 2) \n",
    "    hmarkers.append(c)\n",
    "    tMap.add_layer(c) "
   ]
  },
  {
   "cell_type": "code",
   "execution_count": null,
   "metadata": {
    "collapsed": true
   },
   "outputs": [],
   "source": [
    "for mk in hmarkers:\n",
    "    tMap.remove_layer(mk)"
   ]
  },
  {
   "cell_type": "markdown",
   "metadata": {},
   "source": [
    "# Step4. Find best graph"
   ]
  },
  {
   "cell_type": "markdown",
   "metadata": {},
   "source": [
    "## Preparing vertices and edges"
   ]
  },
  {
   "cell_type": "code",
   "execution_count": null,
   "metadata": {
    "collapsed": true
   },
   "outputs": [],
   "source": [
    "''' \n",
    "Transformer : tTransJson['coordinates']\n",
    "Houses : tHouseJson['coordinates']\n",
    "'''\n"
   ]
  },
  {
   "cell_type": "markdown",
   "metadata": {},
   "source": [
    "## Build graph with data set"
   ]
  },
  {
   "cell_type": "code",
   "execution_count": 4,
   "metadata": {
    "collapsed": false
   },
   "outputs": [],
   "source": [
    "# To be implemented\n",
    "def buildGraph(graph):\n",
    "    # graph [\"1 2 10.1\", \"2 3 5.3\"]\n",
    "    G=nx.parse_edgelist(graph, nodetype = int, data=(('weight',float),))\n",
    "    return G\n"
   ]
  },
  {
   "cell_type": "code",
   "execution_count": 5,
   "metadata": {
    "collapsed": false
   },
   "outputs": [
    {
     "name": "stdout",
     "output_type": "stream",
     "text": [
      "[1, 2, 3]\n",
      "[(1, 2, {'weight': 10.1}), (2, 3, {'weight': 5.3})]\n"
     ]
    }
   ],
   "source": [
    "# Testing Code\n",
    "graph = [\"1 2 10.1\", \"2 3 5.3\"]\n",
    "G = buildGraph(graph)\n",
    "print G.nodes()\n",
    "print G.edges(data = True)"
   ]
  },
  {
   "cell_type": "markdown",
   "metadata": {},
   "source": [
    "## Run network algorithm"
   ]
  },
  {
   "cell_type": "code",
   "execution_count": null,
   "metadata": {
    "collapsed": true
   },
   "outputs": [],
   "source": [
    "# To be implemented"
   ]
  },
  {
   "cell_type": "markdown",
   "metadata": {},
   "source": [
    "# Step5. Display graph on map"
   ]
  },
  {
   "cell_type": "code",
   "execution_count": null,
   "metadata": {
    "collapsed": true
   },
   "outputs": [],
   "source": []
  }
 ],
 "metadata": {
  "anaconda-cloud": {},
  "kernelspec": {
   "display_name": "Python [Root]",
   "language": "python",
   "name": "Python [Root]"
  },
  "language_info": {
   "codemirror_mode": {
    "name": "ipython",
    "version": 2
   },
   "file_extension": ".py",
   "mimetype": "text/x-python",
   "name": "python",
   "nbconvert_exporter": "python",
   "pygments_lexer": "ipython2",
   "version": "2.7.12"
  },
  "widgets": {
   "state": {
    "4f0a7b7f077349d789769a5f9c8b5dcc": {
     "views": [
      {
       "cell_index": 30
      }
     ]
    },
    "ef481a853b034dc5be610fcc30ba23f4": {
     "views": [
      {
       "cell_index": 18
      }
     ]
    }
   },
   "version": "1.2.0"
  }
 },
 "nbformat": 4,
 "nbformat_minor": 0
}
