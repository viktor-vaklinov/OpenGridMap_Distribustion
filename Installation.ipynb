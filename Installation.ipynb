{
 "cells": [
  {
   "cell_type": "markdown",
   "metadata": {},
   "source": [
    "# OpenGridMap Notebook -- Installation and Prework"
   ]
  },
  {
   "cell_type": "markdown",
   "metadata": {},
   "source": [
    "### 1. Install PostGis "
   ]
  },
  {
   "cell_type": "markdown",
   "metadata": {},
   "source": [
    "Find installation from link http://postgis.net/install/ ( installed version should be 3.5.0+)"
   ]
  },
  {
   "cell_type": "markdown",
   "metadata": {},
   "source": [
    "### 2. Download map data"
   ]
  },
  {
   "cell_type": "markdown",
   "metadata": {},
   "source": [
    "The testing data used by this project is DataInstallation/oberbayern-latest.osm.pbf, \n",
    "which is downloaded from link http://download.geofabrik.de/europe/germany/bayern/oberbayern.html."
   ]
  },
  {
   "cell_type": "markdown",
   "metadata": {},
   "source": [
    "### 3. Import map data"
   ]
  },
  {
   "cell_type": "markdown",
   "metadata": {},
   "source": [
    "To import the .osm.pbf data, we need a tool called Osm2pgsql, see link http://wiki.openstreetmap.org/wiki/Osm2pgsql#Special_.27tags.27 for detailed installation. \n",
    "\n",
    "After we install it,execute following commands to your PostGis\n",
    "<code>\n",
    "    createdb gis\n",
    "\tpsql -d gis -c 'CREATE EXTENSION postgis; CREATE EXTENSION hstore;'\n",
    "\tosm2pgsql --create --database gis oberbayern-latest.osm.pbf\n",
    "</code>\n",
    "(More information in link https://github.com/openstreetmap/osm2pgsql)"
   ]
  },
  {
   "cell_type": "markdown",
   "metadata": {},
   "source": [
    "### 4. Import table for transformers"
   ]
  },
  {
   "cell_type": "markdown",
   "metadata": {},
   "source": [
    "The .sql file can be found under DataInstallation and use following command to import it:<br>\n",
    "<code>\tpsql gis < DataInstallation/student_transformers.sql </code>"
   ]
  },
  {
   "cell_type": "markdown",
   "metadata": {},
   "source": [
    "### 5. Necessary Tables to create"
   ]
  },
  {
   "cell_type": "code",
   "execution_count": 3,
   "metadata": {
    "collapsed": false
   },
   "outputs": [],
   "source": [
    "'''\n",
    "# Table to store vornoi diagram \n",
    "CREATE TABLE vornoi (\n",
    "    vid bigint NOT NULL,\n",
    "    tid bigint,\n",
    "    way geometry(Polygon,900913),\n",
    "    tway geometry(Point,900913)\n",
    ");\n",
    "\n",
    "CREATE SEQUENCE vornoi_id_seq\n",
    "    START WITH 1\n",
    "    INCREMENT BY 1\n",
    "    NO MINVALUE\n",
    "    NO MAXVALUE\n",
    "    CACHE 1;\n",
    "\n",
    "ALTER SEQUENCE vornoi_id_seq OWNED BY vornoi.vid;\n",
    "ALTER TABLE ONLY vornoi ALTER COLUMN vid SET DEFAULT nextval('vornoi_id_seq'::regclass);\n",
    "\n",
    "\n",
    "# Table to store mapping between houses and vornoi diagram\n",
    "CREATE TABLE vornoi_map (\n",
    "    mid bigint NOT NULL,\n",
    "    oid bigint,\n",
    "    vid bigint,\n",
    "    way geometry(Point,900913),\n",
    "    istransformer BOOLEAN\n",
    ");\n",
    "\n",
    "CREATE SEQUENCE vornoi_map_id_seq\n",
    "    START WITH 1\n",
    "    INCREMENT BY 1\n",
    "    NO MINVALUE\n",
    "    NO MAXVALUE\n",
    "    CACHE 1;\n",
    "\n",
    "ALTER SEQUENCE vornoi_map_id_seq OWNED BY vornoi_map.mid;\n",
    "ALTER TABLE ONLY vornoi_map ALTER COLUMN mid SET DEFAULT nextval('vornoi_map_id_seq'::regclass);\n",
    "\n",
    "\n",
    "# Table to store graph\n",
    "CREATE TABLE graph (\n",
    "    gid int NOT NULL,\n",
    "    vid bigint,\n",
    "    type VARCHAR(30),\n",
    "    way geometry(MultiLineString,900913)\n",
    ");\n",
    "\n",
    "CREATE SEQUENCE graph_id_seq\n",
    "    START WITH 1\n",
    "    INCREMENT BY 1\n",
    "    NO MINVALUE\n",
    "    NO MAXVALUE\n",
    "    CACHE 1;\n",
    "\n",
    "ALTER SEQUENCE graph_id_seq OWNED BY graph.gid;\n",
    "ALTER TABLE ONLY graph ALTER COLUMN gid SET DEFAULT nextval('graph_id_seq'::regclass);\n",
    "'''"
   ]
  },
  {
   "cell_type": "code",
   "execution_count": null,
   "metadata": {
    "collapsed": true
   },
   "outputs": [],
   "source": []
  }
 ],
 "metadata": {
  "anaconda-cloud": {},
  "kernelspec": {
   "display_name": "Python [Root]",
   "language": "python",
   "name": "Python [Root]"
  },
  "language_info": {
   "codemirror_mode": {
    "name": "ipython",
    "version": 2
   },
   "file_extension": ".py",
   "mimetype": "text/x-python",
   "name": "python",
   "nbconvert_exporter": "python",
   "pygments_lexer": "ipython2",
   "version": "2.7.12"
  }
 },
 "nbformat": 4,
 "nbformat_minor": 0
}
