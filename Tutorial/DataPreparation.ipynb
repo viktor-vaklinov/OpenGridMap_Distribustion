{
 "cells": [
  {
   "cell_type": "markdown",
   "metadata": {},
   "source": [
    "# OpenGridMap Notebook -- Data Preparation"
   ]
  },
  {
   "cell_type": "markdown",
   "metadata": {},
   "source": [
    "Before executing any code in this Notebook, you should \n",
    "1. make sure that you have installed necessary tools \n",
    "2. prepare a database gis in your local PostGis server. \n",
    "Please look at Installation.ipynb for more details.\n",
    "\n",
    "The goal of this notebook is to\n",
    "1. Get farmilliar with the dataset\n",
    "2. Learn APIs of PostGis and ipyleaflet \n",
    "3. Fuse required data into one or two compact tables"
   ]
  },
  {
   "cell_type": "markdown",
   "metadata": {},
   "source": [
    "# Step1. Preparation"
   ]
  },
  {
   "cell_type": "markdown",
   "metadata": {},
   "source": [
    "## Import necessary modules"
   ]
  },
  {
   "cell_type": "code",
   "execution_count": 1,
   "metadata": {
    "collapsed": true
   },
   "outputs": [],
   "source": [
    "import psycopg2\n",
    "import json\n",
    "import ipyleaflet as L\n",
    "import networkx as nx\n",
    "from ipyleaflet import (\n",
    "    Map,\n",
    "    Marker,\n",
    "    TileLayer, ImageOverlay,\n",
    "    Polyline, Polygon, Rectangle, Circle, CircleMarker,\n",
    "    GeoJSON,\n",
    "    DrawControl\n",
    ")"
   ]
  },
  {
   "cell_type": "markdown",
   "metadata": {},
   "source": [
    "## Database connection"
   ]
  },
  {
   "cell_type": "code",
   "execution_count": 2,
   "metadata": {
    "collapsed": false
   },
   "outputs": [],
   "source": [
    "# Set connection to gis db\n",
    "try:\n",
    "    conn = psycopg2.connect(\"dbname=gis user=jennyzhou\")\n",
    "except:\n",
    "    print 'Fail to connect to Postgres Server'"
   ]
  },
  {
   "cell_type": "markdown",
   "metadata": {},
   "source": [
    "# Step2. Data selection"
   ]
  },
  {
   "cell_type": "markdown",
   "metadata": {},
   "source": [
    "## Select area of Garching on map"
   ]
  },
  {
   "cell_type": "code",
   "execution_count": 3,
   "metadata": {
    "collapsed": false
   },
   "outputs": [],
   "source": [
    "# Select polygon of Garching\n",
    "cur = conn.cursor() \n",
    "cur.execute(\"SELECT ST_AsGeoJSON(ST_FlipCoordinates(ST_Transform(ST_Centroid(way), 4326))), ST_AsGeoJSON(ST_FlipCoordinates(ST_Transform(way, 4326))) FROM planet_osm_polygon WHERE osm_id = -30971; \")\n",
    "garching = cur.fetchall()\n",
    "cur.close()\n",
    "\n",
    "garchingCentJson = json.loads(garching[0][0])\n",
    "garchingPolJson = json.loads(garching[0][1])"
   ]
  },
  {
   "cell_type": "markdown",
   "metadata": {},
   "source": [
    "## Select transformer entries"
   ]
  },
  {
   "cell_type": "code",
   "execution_count": 4,
   "metadata": {
    "collapsed": false
   },
   "outputs": [],
   "source": [
    "cur = conn.cursor()\n",
    "# Select all the transformers inside Garching\n",
    "cur.execute(\"SELECT ST_AsGeoJSON(ST_Collect(ST_FlipCoordinates(ST_Transform(way, 4326)))) FROM student_transformers;\")\n",
    "transformers = cur.fetchall()\n",
    "cur.close()\n",
    "transJson = json.loads(transformers[0][0])"
   ]
  },
  {
   "cell_type": "markdown",
   "metadata": {},
   "source": [
    "## Voronoi segmentation within Garching"
   ]
  },
  {
   "cell_type": "code",
   "execution_count": 5,
   "metadata": {
    "collapsed": false
   },
   "outputs": [],
   "source": [
    "cur = conn.cursor()\n",
    "# Get voronoi diagram\n",
    "cur.execute(\"SELECT ST_AsGeoJSON(ST_FlipCoordinates(ST_Transform(ST_VoronoiPolygons(ST_Collect(way)), 4326))) FROM student_transformers;\")\n",
    "#cur.execute(\"SELECT ST_AsGeoJSON(ST_VoronoiPolygons(ST_Collect(ST_FlipCoordinates(ST_Transform(way, 4326))))) FROM student_transformers;\")\n",
    "voronoi = cur.fetchall()\n",
    "voronoiJson = json.loads(voronoi[0][0])"
   ]
  },
  {
   "cell_type": "markdown",
   "metadata": {},
   "source": [
    "## Select house entries"
   ]
  },
  {
   "cell_type": "code",
   "execution_count": 7,
   "metadata": {
    "collapsed": false
   },
   "outputs": [],
   "source": [
    "# cur = conn.cursor()\n",
    "# # Too Slow\n",
    "# cur.execute(\"SELECT ST_AsGeoJson(ST_FlipCoordinates(ST_Transform(ST_Centroid(way), 4326))) FROM planet_osm_polygon WHERE ST_Within(way,(SELECT way FROM planet_osm_polygon WHERE osm_id = -30971)) AND building != '' LIMIT 10; \")\n",
    "# houses = cur.fetchall()\n",
    "# cur.close()"
   ]
  },
  {
   "cell_type": "markdown",
   "metadata": {},
   "source": [
    "# Step3. Data visualisation with ipyleaflet"
   ]
  },
  {
   "cell_type": "markdown",
   "metadata": {},
   "source": [
    "## 3.1 General display with all data"
   ]
  },
  {
   "cell_type": "code",
   "execution_count": 6,
   "metadata": {
    "collapsed": true
   },
   "outputs": [],
   "source": [
    "# Initial map container with Garching as center\n",
    "map = Map(default_tiles=TileLayer(opacity=1.0),center= garchingCentJson['coordinates'],zoom =13)\n",
    "map"
   ]
  },
  {
   "cell_type": "markdown",
   "metadata": {},
   "source": [
    "### Mark boundary of Garching"
   ]
  },
  {
   "cell_type": "code",
   "execution_count": 7,
   "metadata": {
    "collapsed": false
   },
   "outputs": [],
   "source": [
    "# Show boundary of Garching\n",
    "garchingOuter = Polygon(locations=garchingPolJson['coordinates'], weight=4,\n",
    "            color='#003d99', opacity=0.8, fill_opacity=0.0,\n",
    "            fill_color='#ccffcc')\n",
    "map += garchingOuter"
   ]
  },
  {
   "cell_type": "markdown",
   "metadata": {},
   "source": [
    "### Voronoi Diagram"
   ]
  },
  {
   "cell_type": "code",
   "execution_count": 8,
   "metadata": {
    "collapsed": false
   },
   "outputs": [],
   "source": [
    "for poly in voronoiJson['geometries']:\n",
    "    pg = Polygon(locations=poly['coordinates'], weight=2,\n",
    "            color='#a3c2c2', opacity=0.8, fill_opacity=0.2,\n",
    "            fill_color='#ccffcc') \n",
    "    map.add_layer(pg)"
   ]
  },
  {
   "cell_type": "markdown",
   "metadata": {},
   "source": [
    "### Mark transformers"
   ]
  },
  {
   "cell_type": "code",
   "execution_count": 9,
   "metadata": {
    "collapsed": false
   },
   "outputs": [],
   "source": [
    "# Mark transformers\n",
    "tmarkers = []\n",
    "for tp in transJson['coordinates']:  \n",
    "    mk = Marker(location=tp)\n",
    "    tmarkers.append(mk)\n",
    "    map.add_layer(mk)"
   ]
  },
  {
   "cell_type": "code",
   "execution_count": 175,
   "metadata": {
    "collapsed": true
   },
   "outputs": [],
   "source": [
    "# Clean Markers\n",
    "for mk in tmarkers:\n",
    "    map.remove_layer(mk)"
   ]
  },
  {
   "cell_type": "markdown",
   "metadata": {},
   "source": [
    "## 3.2 Testing within one voronoi polygon"
   ]
  },
  {
   "cell_type": "code",
   "execution_count": 10,
   "metadata": {
    "collapsed": true
   },
   "outputs": [],
   "source": [
    "# Fix area -> good choice: 38 (or 37) \n",
    "tArea = voronoiJson['geometries'][38]"
   ]
  },
  {
   "cell_type": "code",
   "execution_count": 11,
   "metadata": {
    "collapsed": false
   },
   "outputs": [],
   "source": [
    "# Find corresponding transformers\n",
    "tGeoJson = json.dumps(tArea)\n",
    "cur = conn.cursor()\n",
    "cur.execute(\"SELECT ST_AsGeoJSON(ST_FlipCoordinates(ST_Transform(way, 4326))) FROM student_transformers WHERE ST_Within(ST_FlipCoordinates(ST_Transform(way, 4326)),ST_SetSRID(ST_GeomFromGeoJSON(\\'%s\\'),4326));\" % tGeoJson)\n",
    "tTrans = cur.fetchall()\n",
    "\n",
    "# Find corresponding houses\n",
    "cur.execute(\"SELECT ST_AsGeoJson(ST_Collect(ST_FlipCoordinates(ST_Transform(ST_Centroid(way), 4326)))) FROM planet_osm_polygon WHERE ST_Within(ST_FlipCoordinates(ST_Transform(ST_Centroid(way), 4326)),ST_SetSRID(ST_GeomFromGeoJSON(\\'%s\\'),4326)) AND building != '';\" % tGeoJson)\n",
    "houses = cur.fetchall()\n",
    "cur.close()\n",
    "tTransJson = json.loads(tTrans[0][0])\n",
    "tHouseJson = json.loads(houses[0][0])\n"
   ]
  },
  {
   "cell_type": "code",
   "execution_count": 12,
   "metadata": {
    "collapsed": true
   },
   "outputs": [],
   "source": [
    "# Mark houses\n",
    "hmarkers = []\n",
    "for row in houses:\n",
    "    c = Circle(location=json.loads(row[0])['coordinates'], weight=5, opacity = 0.5, color = 'red', radius = 2) \n",
    "    hmarkers.append(c)\n",
    "    map.add_layer(c) "
   ]
  },
  {
   "cell_type": "code",
   "execution_count": 13,
   "metadata": {
    "collapsed": false
   },
   "outputs": [],
   "source": [
    "# Mark transformer\n",
    "tCenter = tTransJson['coordinates']\n",
    "tMarker =  Marker(location=tCenter)\n",
    "\n",
    "# Mark polygon\n",
    "tPoly = Polygon(locations=tArea['coordinates'], weight=2,\n",
    "            color='#a3c2c2', opacity=0.8, fill_opacity=0.2,\n",
    "            fill_color='#ccffcc') \n",
    "\n",
    "# Init Map\n",
    "tMap = Map(default_tiles=TileLayer(opacity=1.0),center=tCenter ,zoom=17)\n",
    "tMap.add_layer(tMarker)\n",
    "tMap.add_layer(tPoly)\n",
    "tMap"
   ]
  },
  {
   "cell_type": "code",
   "execution_count": 14,
   "metadata": {
    "collapsed": false
   },
   "outputs": [],
   "source": [
    "# Mark houses\n",
    "hmarkers = []\n",
    "for hp in tHouseJson['coordinates']:\n",
    "    c = Circle(location= hp, weight=5, opacity = 0.5, color = 'red', radius = 2) \n",
    "    hmarkers.append(c)\n",
    "    tMap.add_layer(c) "
   ]
  },
  {
   "cell_type": "code",
   "execution_count": null,
   "metadata": {
    "collapsed": true
   },
   "outputs": [],
   "source": [
    "for mk in hmarkers:\n",
    "    tMap.remove_layer(mk)"
   ]
  },
  {
   "cell_type": "markdown",
   "metadata": {},
   "source": [
    "# Final Step. Fusion into new data tables"
   ]
  },
  {
   "cell_type": "markdown",
   "metadata": {},
   "source": [
    "### Execute following section ONLY WHEN one needs to initialize all the tables!\n"
   ]
  },
  {
   "cell_type": "code",
   "execution_count": 297,
   "metadata": {
    "collapsed": true
   },
   "outputs": [],
   "source": [
    "cur = conn.cursor()\n",
    "\"\"\"\n",
    "# Store vornoi diagram into table vornoi\n",
    "cur.execute(\"SELECT ST_AsGeoJSON(ST_VoronoiPolygons(ST_Collect(way))) FROM student_transformers;\")\n",
    "vor = cur.fetchall()\n",
    "vorJson = json.loads(vor[0][0])\n",
    "for geo in vorJson['geometries']:\n",
    "    geoJson = json.dumps(geo)\n",
    "    cur.execute(\"INSERT INTO vornoi (way) VALUES (ST_SetSRID(ST_GeomFromGeoJSON(\\'%s\\'),900913));\" % geoJson)\n",
    "    conn.commit()\n",
    "    \n",
    "# Mapping corresponding transformer\n",
    "cur.execute(\"UPDATE vornoi SET tid = t.transformer_id, tway = t.way FROM student_transformers AS t WHERE ST_Within(t.way, vornoi.way);\")\n",
    "conn.commit()\n",
    "\n",
    "# Storing mapping betweent houses and transformers into table vornoi_map\n",
    "cur.execute(\"INSERT INTO vornoi_map (vid,oid,way,istransformer) SELECT v.vid, h.osm_id, ST_Centroid(h.way),false FROM vornoi AS v, planet_osm_polygon AS h WHERE ST_Within(ST_Centroid(h.way),v.way) AND building != '';\")\n",
    "conn.commit()\n",
    "\n",
    "# Insert corresponding transformers into table vornoi_map for convenience\n",
    "cur.execute(\"INSERT INTO vornoi_map (vid,oid,way,istransformer) SELECT v.vid, v.tid, v.tway, true FROM vornoi As v;\")\n",
    "conn.commit()\n",
    "\"\"\"\n",
    "cur.close()"
   ]
  }
 ],
 "metadata": {
  "anaconda-cloud": {},
  "kernelspec": {
   "display_name": "Python [Root]",
   "language": "python",
   "name": "Python [Root]"
  },
  "language_info": {
   "codemirror_mode": {
    "name": "ipython",
    "version": 2
   },
   "file_extension": ".py",
   "mimetype": "text/x-python",
   "name": "python",
   "nbconvert_exporter": "python",
   "pygments_lexer": "ipython2",
   "version": "2.7.12"
  },
  "widgets": {
   "state": {
    "5026a57d5f5745718678fd02989f7db4": {
     "views": [
      {
       "cell_index": 30
      }
     ]
    },
    "bfaa9634171844febc5fb762dee8986b": {
     "views": [
      {
       "cell_index": 18
      }
     ]
    }
   },
   "version": "1.2.0"
  }
 },
 "nbformat": 4,
 "nbformat_minor": 0
}
