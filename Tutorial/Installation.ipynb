{
 "cells": [
  {
   "cell_type": "markdown",
   "metadata": {},
   "source": [
    "# OpenGridMap Notebook -- Installation and Prework"
   ]
  },
  {
   "cell_type": "markdown",
   "metadata": {},
   "source": [
    "### 1. Install PostGis "
   ]
  },
  {
   "cell_type": "markdown",
   "metadata": {},
   "source": [
    "__Mac OSX__: Find installation from link http://postgis.net/install/ ( installed version should be 2.3+)  \n",
    "__Ubuntu__:  _sudo apt-get install postgresql-contrib postgis_  \n",
    "To allow remote connection (Here only explain the setting for Ubuntu os):  \n",
    "    1. Add line   host all your_user_name 0.0.0.0/0 md5   in /etc/postgresql/9.5/main/pg_hba.conf\n",
    "    2. Set  listen_addresses = '*'  in /etc/postgresql/9.5/main/postgresql.conf\n",
    "    3. Make sure default listening port 5432 is allowed by your os"
   ]
  },
  {
   "cell_type": "markdown",
   "metadata": {},
   "source": [
    "### 2. Download map data"
   ]
  },
  {
   "cell_type": "markdown",
   "metadata": {},
   "source": [
    "The testing data used by this project is __oberbayern-latest.osm.pbf__,  \n",
    "which is downloaded from link http://download.geofabrik.de/europe/germany/bayern/oberbayern-latest.osm.pbf  \n",
    "For example, one can use command:  \n",
    "_wget http://download.geofabrik.de/europe/germany/bayern/oberbayern-latest.osm.pbf _\n"
   ]
  },
  {
   "cell_type": "markdown",
   "metadata": {},
   "source": [
    "### 3. Import map data"
   ]
  },
  {
   "cell_type": "markdown",
   "metadata": {},
   "source": [
    "To import the .osm.pbf data, we need a tool called Osm2pgsql,  \n",
    "__Mac OSX__:   *brew install osm2pgsql*  \n",
    "__Ubuntu__:    *wget install osm2pgsql*  \n",
    "See link *http://wiki.openstreetmap.org/wiki/Osm2pgsql#Special_.27tags.27* for detailed installation. \n",
    "\n",
    "\n",
    "After we install it,execute following commands to your PostGis  \n",
    "<code>\n",
    "    createdb gis \n",
    "\tpsql -d gis -c 'CREATE EXTENSION postgis; CREATE EXTENSION hstore;'\n",
    "\tosm2pgsql --create --database gis oberbayern-latest.osm.pbf\n",
    "    **use --slim can slow down the import process and save RAM.\n",
    "</code>\n",
    "(More information in link https://github.com/openstreetmap/osm2pgsql)"
   ]
  },
  {
   "cell_type": "markdown",
   "metadata": {},
   "source": [
    "### 4. Import table for transformers"
   ]
  },
  {
   "cell_type": "markdown",
   "metadata": {},
   "source": [
    "The .sql file can be found under DataInstallation and use following command to import it:<br>\n",
    "<code>\tpsql gis < DataInstallation/student_transformers.sql </code>"
   ]
  },
  {
   "cell_type": "markdown",
   "metadata": {},
   "source": [
    "### 5. Necessary Tables to create"
   ]
  },
  {
   "cell_type": "code",
   "execution_count": 3,
   "metadata": {
    "collapsed": false
   },
   "outputs": [],
   "source": [
    "'''\n",
    "# Table to store vornoi diagram \n",
    "CREATE TABLE vornoi (\n",
    "    vid bigint NOT NULL,\n",
    "    tid bigint,\n",
    "    way geometry(Polygon,900913),\n",
    "    tway geometry(Point,900913)\n",
    ");\n",
    "\n",
    "CREATE SEQUENCE vornoi_id_seq\n",
    "    START WITH 1\n",
    "    INCREMENT BY 1\n",
    "    NO MINVALUE\n",
    "    NO MAXVALUE\n",
    "    CACHE 1;\n",
    "\n",
    "ALTER SEQUENCE vornoi_id_seq OWNED BY vornoi.vid;\n",
    "ALTER TABLE ONLY vornoi ALTER COLUMN vid SET DEFAULT nextval('vornoi_id_seq'::regclass);\n",
    "\n",
    "\n",
    "# Table to store mapping between houses and vornoi diagram\n",
    "CREATE TABLE vornoi_map (\n",
    "    mid bigint NOT NULL,\n",
    "    oid bigint,\n",
    "    vid bigint,\n",
    "    way geometry(Point,900913),\n",
    "    istransformer BOOLEAN\n",
    ");\n",
    "\n",
    "CREATE SEQUENCE vornoi_map_id_seq\n",
    "    START WITH 1\n",
    "    INCREMENT BY 1\n",
    "    NO MINVALUE\n",
    "    NO MAXVALUE\n",
    "    CACHE 1;\n",
    "\n",
    "ALTER SEQUENCE vornoi_map_id_seq OWNED BY vornoi_map.mid;\n",
    "ALTER TABLE ONLY vornoi_map ALTER COLUMN mid SET DEFAULT nextval('vornoi_map_id_seq'::regclass);\n",
    "\n",
    "\n",
    "# Table to store graph\n",
    "CREATE TABLE graph (\n",
    "    gid int NOT NULL,\n",
    "    vid bigint,\n",
    "    type VARCHAR(30),\n",
    "    way geometry(MultiLineString,900913)\n",
    ");\n",
    "\n",
    "CREATE SEQUENCE graph_id_seq\n",
    "    START WITH 1\n",
    "    INCREMENT BY 1\n",
    "    NO MINVALUE\n",
    "    NO MAXVALUE\n",
    "    CACHE 1;\n",
    "\n",
    "ALTER SEQUENCE graph_id_seq OWNED BY graph.gid;\n",
    "ALTER TABLE ONLY graph ALTER COLUMN gid SET DEFAULT nextval('graph_id_seq'::regclass);\n",
    "\n",
    "\n",
    "CREATE TABLE approx_node (\n",
    "    nid int NOT NULL,\n",
    "    way geometry(Point,4326),\n",
    "    ntype int\n",
    ");\n",
    "\n",
    "CREATE SEQUENCE approx_node_id_seq\n",
    "    START WITH 1\n",
    "    INCREMENT BY 1\n",
    "    NO MINVALUE\n",
    "    NO MAXVALUE\n",
    "    CACHE 1;\n",
    "ALTER SEQUENCE approx_node_id_seq OWNED BY approx_node.nid;\n",
    "ALTER TABLE ONLY approx_node ALTER COLUMN nid SET DEFAULT nextval('approx_node_id_seq'::regclass);\n",
    "'''"
   ]
  }
 ],
 "metadata": {
  "anaconda-cloud": {},
  "kernelspec": {
   "display_name": "Python [Root]",
   "language": "python",
   "name": "Python [Root]"
  },
  "language_info": {
   "codemirror_mode": {
    "name": "ipython",
    "version": 2
   },
   "file_extension": ".py",
   "mimetype": "text/x-python",
   "name": "python",
   "nbconvert_exporter": "python",
   "pygments_lexer": "ipython2",
   "version": "2.7.12"
  }
 },
 "nbformat": 4,
 "nbformat_minor": 0
}
