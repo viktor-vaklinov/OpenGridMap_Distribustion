{
 "cells": [
  {
   "cell_type": "markdown",
   "metadata": {},
   "source": [
    "# OpenGridMap Notebook  -- MST along road"
   ]
  },
  {
   "cell_type": "markdown",
   "metadata": {},
   "source": [
    "Before executing any code in this Notebook, you should \n",
    "1. Install what specified in Installation.ipynb\n",
    "2. Understand DataPreparation.ipynb is also helpful\n",
    "\n",
    "The goal of this notebook is to\n",
    "1. Learn APIs of NetworkX\n",
    "2. Inference and test with different algorithms"
   ]
  },
  {
   "cell_type": "markdown",
   "metadata": {},
   "source": [
    "# Step1. Data Preparation"
   ]
  },
  {
   "cell_type": "markdown",
   "metadata": {},
   "source": [
    "## Import necessary modules"
   ]
  },
  {
   "cell_type": "code",
   "execution_count": 1,
   "metadata": {
    "collapsed": false
   },
   "outputs": [
    {
     "name": "stderr",
     "output_type": "stream",
     "text": [
      "//anaconda/lib/python2.7/site-packages/matplotlib/font_manager.py:273: UserWarning: Matplotlib is building the font cache using fc-list. This may take a moment.\n",
      "  warnings.warn('Matplotlib is building the font cache using fc-list. This may take a moment.')\n"
     ]
    }
   ],
   "source": [
    "import psycopg2\n",
    "import json\n",
    "import ipyleaflet as L\n",
    "import networkx as nx\n",
    "from networkx.algorithms import approximation as approx\n",
    "from ipyleaflet import (\n",
    "    Map,\n",
    "    Marker,\n",
    "    TileLayer, ImageOverlay,\n",
    "    Polyline, Polygon, Rectangle, Circle, CircleMarker,\n",
    "    GeoJSON,\n",
    "    DrawControl\n",
    ")\n",
    "import math\n",
    "import matplotlib.pyplot as plt\n",
    "%matplotlib inline\n",
    "\n",
    "\n",
    "def cleanMap(transJson, vornoiJson): \n",
    "    # Mark transformer\n",
    "    tCenter = transJson['coordinates']\n",
    "    tMarker =  Marker(location=tCenter)\n",
    "    # Mark polygon\n",
    "    tPoly = Polygon(locations=vornoiJson['coordinates'], weight=2,\n",
    "                color='#a3c2c2', opacity=0.8, fill_opacity=0.2,\n",
    "                fill_color='#ccffcc') \n",
    "    \n",
    "    tMap = Map(default_tiles=TileLayer(opacity=1.0),center=tCenter ,zoom=16)\n",
    "    tMap.add_layer(tMarker)\n",
    "    tMap.add_layer(tPoly)\n",
    "    return tMap\n",
    "\n",
    "def connect():# Set connection to gis db\n",
    "    try:\n",
    "        conn = psycopg2.connect(\"dbname=gis user=jennyzhou\")\n",
    "    except:\n",
    "        print 'Fail to connect to Postgres Server'\n",
    "    return conn"
   ]
  },
  {
   "cell_type": "markdown",
   "metadata": {},
   "source": [
    "## Database connection"
   ]
  },
  {
   "cell_type": "code",
   "execution_count": 32,
   "metadata": {
    "collapsed": false
   },
   "outputs": [],
   "source": [
    "conn = connect()"
   ]
  },
  {
   "cell_type": "markdown",
   "metadata": {},
   "source": [
    "## Select transformer, house within one vornoi area"
   ]
  },
  {
   "cell_type": "code",
   "execution_count": 39,
   "metadata": {
    "collapsed": false
   },
   "outputs": [],
   "source": [
    "cur = conn.cursor()\n",
    "vid = 38\n",
    "# Select vornoi polygon and transformer\n",
    "cur.execute(\"SELECT ST_AsGeoJSON((ST_FlipCoordinates(ST_Transform(way, 4326)))), \"\n",
    "            \"ST_AsGeoJSON((ST_FlipCoordinates(ST_Transform(tway, 4326))))FROM vornoi WHERE vid = %d ;\" % vid)\n",
    "data = cur.fetchall()\n",
    "\n",
    "# Select all the houses\n",
    "cur.execute(\"SELECT ST_AsGeoJSON(ST_Collect(ST_FlipCoordinates(ST_Transform(way, 4326)))) \"\n",
    "            \"FROM vornoi_map where vid = %d and istransformer = false ;\" % vid)\n",
    "houses = cur.fetchall()\n",
    "cur.close()\n",
    "\n",
    "vornoiJson = json.loads(data[0][0])\n",
    "transJson = json.loads(data[0][1])\n",
    "houseJson = json.loads(houses[0][0])"
   ]
  },
  {
   "cell_type": "markdown",
   "metadata": {},
   "source": [
    "# Step2. Data visualisation with ipyleaflet"
   ]
  },
  {
   "cell_type": "markdown",
   "metadata": {},
   "source": [
    "### DB Usage\n",
    "1. Most roads information can be obtained in table planet_osm_line\n",
    "2. We use 'highway' field to filter different types of road.\n",
    "3. Tags for 'highway':\n",
    "   - Large road: 'residential'; Small road: 'footway'; Park road: 'service'; 'step' same as 'track'\n",
    "   - The main tag we require by now is 'residential'\n"
   ]
  },
  {
   "cell_type": "markdown",
   "metadata": {},
   "source": [
    "## Approximate a road by its starting and ending"
   ]
  },
  {
   "cell_type": "code",
   "execution_count": 24,
   "metadata": {
    "collapsed": false
   },
   "outputs": [],
   "source": [
    "conn = connect()\n",
    "cur = conn.cursor()\n",
    "### Main street from Garching\n",
    "# cur.execute(\"SELECT ST_AsGeoJSON(ST_Collect((ST_FlipCoordinates(ST_Transform(way, 4326))))) FROM planet_osm_line \"\n",
    "#             \"WHERE ST_Within(way,(SELECT way FROM planet_osm_polygon WHERE osm_id = -30971 )) = true \"\n",
    "#             \"AND highway in ('residential');\")# in('primary','secondary','primary_link');\")\n",
    "\n",
    "# Select houses and roads within vornoi polygon -> for each house, select the roads within specific radius\n",
    "cur.execute(\"SELECT ST_AsGeoJSON(ST_FlipCoordinates(ST_Transform(t1.way, 4326))), \"\n",
    "            \"ST_AsGeoJSON(ST_Collect((ST_FlipCoordinates(ST_Transform(ST_StartPoint(t2.way), 4326))))), \"\n",
    "            \"ST_AsGeoJSON(ST_Collect((ST_FlipCoordinates(ST_Transform(ST_EndPoint(t2.way), 4326))))) \"\n",
    "            \"FROM (SELECT way FROM vornoi_map WHERE vid = %d AND istransformer = false) AS t1, \"\n",
    "            \"(SELECT way FROM planet_osm_line WHERE highway in ('residential') \"\n",
    "            \"AND ST_DWithin(way,(SELECT way FROM vornoi WHERE vid = %d ), 1) = true) AS t2 \"\n",
    "            \"WHERE ST_DWithin(t1.way, t2.way, 60) = true GROUP BY t1.way;\" % (vid,vid))\n",
    "\n",
    "axpMap = cur.fetchall()\n",
    "cur.close()\n",
    "\n",
    "rdNodes = set()\n",
    "for i in range(len(axpMap)):\n",
    "    #house = json.loads(axpMap[i][0])['coordinates']\n",
    "    start = json.loads(axpMap[i][1])['coordinates'][0]\n",
    "    end = json.loads(axpMap[i][2])['coordinates'][0]\n",
    "    #rdNodes.append(house)\n",
    "    # Filter duplicated points\n",
    "    rdNodes.add((start[0],start[1]))\n",
    "    rdNodes.add((end[0],end[1]))"
   ]
  },
  {
   "cell_type": "markdown",
   "metadata": {},
   "source": [
    "## Project houses only to the nearest road"
   ]
  },
  {
   "cell_type": "code",
   "execution_count": 107,
   "metadata": {
    "collapsed": false
   },
   "outputs": [],
   "source": [
    "# Select roads near one house\n",
    "cur = conn.cursor()\n",
    "# Create intermediate table\n",
    "cur.execute(\"CREATE TABLE IF NOT EXISTS tempHsRd (hway geometry(Point,900913), rway geometry(LineString,900913), distance float);\")\n",
    "conn.commit()   \n",
    "# clean entries\n",
    "cur.execute(\"DELETE FROM temphsrd;\")\n",
    "conn.commit() \n",
    "cur.execute(\"INSERT INTO temphsrd \"\n",
    "            \"(SELECT t1.way, t2.way, ST_Distance(t1.way, t2.way) \"\n",
    "            \"FROM \"\n",
    "            \"(SELECT way FROM vornoi_map WHERE vid = %d AND istransformer = false) AS t1 LEFT JOIN \"\n",
    "            \"(SELECT way FROM planet_osm_line WHERE highway in ('residential') \"\n",
    "            \"AND ST_DWithin(way,(SELECT way FROM vornoi WHERE vid = %d ), 1) = true) AS t2 \"            \n",
    "            \"ON ST_DWithin(t1.way, t2.way, 100) = true);\" % (vid,vid))\n",
    "conn.commit() \n",
    "\n",
    "cur.execute(\"SELECT ST_AsGeoJSON(ST_FlipCoordinates(ST_Transform(hway, 4326))), \"\n",
    "            \"ST_AsGeoJSON(ST_FlipCoordinates(ST_Transform(ST_ClosestPoint(rway, hway), 4326))) \"\n",
    "            \"FROM temphsrd \"\n",
    "            \"WHERE (hway, distance) IN \"\n",
    "            \"(SELECT hway, MIN(distance) FROM temphsrd GROUP BY hway);\")\n",
    "hsRdMap = cur.fetchall()\n",
    "cur.close()\n",
    "\n",
    "hsNodes = set()\n",
    "for i in range(len(hsRdMap)):\n",
    "#     house = json.loads(hsRdMap[i][0])['coordinates']\n",
    "#     omk = Circle(location=house, weight=5, opacity = 0.7, color = 'red', radius = 2) \n",
    "#     tMap.add_layer(omk)\n",
    "\n",
    "    proj = json.loads(hsRdMap[i][1])['coordinates']\n",
    "    hsNodes.add((proj[0], proj[1]))"
   ]
  },
  {
   "cell_type": "code",
   "execution_count": 117,
   "metadata": {
    "collapsed": false
   },
   "outputs": [],
   "source": [
    "allNodes = rdNodes | hsNodes\n",
    "tMap = cleanMap(transJson, vornoiJson)\n",
    "for nd in allNodes:\n",
    "    omk = Circle(location=nd, weight=5, opacity = 0.5, color = '#003300', radius = 2) \n",
    "    tMap.add_layer(omk)\n",
    "tMap"
   ]
  },
  {
   "cell_type": "markdown",
   "metadata": {},
   "source": [
    "## Make tables for nodes"
   ]
  },
  {
   "cell_type": "code",
   "execution_count": 118,
   "metadata": {
    "collapsed": true
   },
   "outputs": [],
   "source": [
    "conn = connect()\n",
    "cur = conn.cursor()\n",
    "tCenter = transJson['coordinates']\n",
    "cur.execute(\"SELECT count(*) FROM approx_node;\")\n",
    "count = cur.fetchall()\n",
    "if count[0][0] != 0:\n",
    "    cur.execute(\"DELETE FROM approx_node WHERE ntype in (1,2,3);\")\n",
    "    \n",
    "cur.execute(\"INSERT INTO approx_node(way, ntype) VALUES (ST_SetSRID(ST_Point(%f, %f),4326), 3);\"\n",
    "            %(tCenter[0], tCenter[1]))\n",
    "for nd in rdNodes:\n",
    "    cur.execute(\"INSERT INTO approx_node(way, ntype) VALUES (ST_SetSRID(ST_Point(%f, %f),4326), 1);\"\n",
    "                %(nd[0], nd[1]))\n",
    "for nd in hsNodes:\n",
    "    cur.execute(\"INSERT INTO approx_node(way, ntype) VALUES (ST_SetSRID(ST_Point(%f, %f),4326), 2);\"\n",
    "                %(nd[0], nd[1]))\n",
    "conn.commit() \n",
    "cur.close()"
   ]
  },
  {
   "cell_type": "markdown",
   "metadata": {},
   "source": [
    "## Minimum Spanning Tree Along Roads"
   ]
  },
  {
   "cell_type": "code",
   "execution_count": 125,
   "metadata": {
    "collapsed": false
   },
   "outputs": [
    {
     "name": "stdout",
     "output_type": "stream",
     "text": [
      "97 98\n"
     ]
    }
   ],
   "source": [
    "cur = conn.cursor()\n",
    "cur.execute(\"SELECT t1.nid, t2.nid, ST_Distance(ST_Transform(t1.way,26986), ST_Transform(t2.way,26986)) \"\n",
    "            \"FROM (SELECT nid, way FROM approx_node) AS t1, \"\n",
    "            \"(SELECT nid, way FROM approx_node) AS t2 \"\n",
    "            \"WHERE t1.nid != t2.nid ;\")\n",
    "edgeData = cur.fetchall()\n",
    "graph = []\n",
    "for ele in edgeData:\n",
    "    graph.append(\"%d %d %f\" % ele)\n",
    "G = nx.parse_edgelist(graph, nodetype = int, data=(('weight',float),))\n",
    "MST = nx.minimum_spanning_tree(G)\n",
    "print approx.node_connectivity(G), len(MST.nodes())\n",
    "\n",
    "edgeStr = str(MST.edges()).replace(\"[\", \"(\").replace(\"]\",\")\")\n",
    "cur.execute(\"SELECT ST_AsGeoJSON(ST_MakeLine(t1.way,t2.way))\"\n",
    "            \"FROM (SELECT nid, way FROM approx_node) AS t1, \"\n",
    "            \"(SELECT nid, way FROM approx_node) AS t2 \"\n",
    "            \"WHERE (t1.nid,t2.nid) in %s ;\"%edgeStr)\n",
    "lines = cur.fetchall()\n",
    "cur.close()\n",
    "\n",
    "tMap = cleanMap(transJson, vornoiJson)\n",
    "for line in lines:\n",
    "    lineJson = json.loads(line[0])['coordinates']   \n",
    "    pl = Polyline(locations=lineJson, weight=2, color='red', opacity=0.5)\n",
    "    tMap.add_layer(pl)\n",
    "tMap"
   ]
  }
 ],
 "metadata": {
  "anaconda-cloud": {},
  "kernelspec": {
   "display_name": "Python [Root]",
   "language": "python",
   "name": "Python [Root]"
  },
  "language_info": {
   "codemirror_mode": {
    "name": "ipython",
    "version": 2
   },
   "file_extension": ".py",
   "mimetype": "text/x-python",
   "name": "python",
   "nbconvert_exporter": "python",
   "pygments_lexer": "ipython2",
   "version": "2.7.12"
  },
  "widgets": {
   "state": {
    "a0a968f7123d42e7b95b8f79dd9de785": {
     "views": [
      {
       "cell_index": 20
      }
     ]
    },
    "d244d75f8d0042d396454c6021131ee0": {
     "views": [
      {
       "cell_index": 16
      }
     ]
    }
   },
   "version": "1.2.0"
  }
 },
 "nbformat": 4,
 "nbformat_minor": 0
}
